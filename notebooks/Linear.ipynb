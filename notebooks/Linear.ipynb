{
 "cells": [
  {
   "cell_type": "code",
   "execution_count": 13,
   "metadata": {},
   "outputs": [],
   "source": [
    "import matplotlib.pyplot as plt\n",
    "import numpy as np\n",
    "import pandas as pd\n",
    "import sklearn\n",
    "import sklearn.preprocessing as preproc\n",
    "from sklearn import svm\n",
    "from sklearn.decomposition import PCA\n",
    "\n",
    "from draco.learn import preprocess\n",
    "from draco.learn.helper import count_violations, current_weights\n",
    "from draco.spec import Data, Field\n",
    "\n",
    "%matplotlib inline"
   ]
  },
  {
   "cell_type": "code",
   "execution_count": 2,
   "metadata": {},
   "outputs": [],
   "source": [
    "np.random.seed(1)"
   ]
  },
  {
   "cell_type": "markdown",
   "metadata": {},
   "source": [
    "## Data preparation and learning functions"
   ]
  },
  {
   "cell_type": "code",
   "execution_count": 3,
   "metadata": {},
   "outputs": [],
   "source": [
    "def prepare_data(data):\n",
    "\n",
    "    N = len(data)\n",
    "    num_features = len(data[\"positive\"].columns)\n",
    "\n",
    "    X = np.zeros((N, num_features))\n",
    "    y = np.zeros(N)\n",
    "\n",
    "    for i in range(N):\n",
    "\n",
    "        x_pos = data[\"positive\"].iloc[i].values\n",
    "        x_neg = data[\"negative\"].iloc[i].values\n",
    "\n",
    "        feed_pos = np.random.choice([True, False])\n",
    "\n",
    "        if feed_pos:\n",
    "            X[i] = x_pos - x_neg\n",
    "            y[i] = 1\n",
    "        else:\n",
    "            X[i] = x_neg - x_pos\n",
    "            y[i] = 0\n",
    "\n",
    "    return X, y"
   ]
  },
  {
   "cell_type": "code",
   "execution_count": 15,
   "metadata": {},
   "outputs": [],
   "source": [
    "def learn_weights(X_train, y_train, X_dev, y_dev):\n",
    "\n",
    "    #clf = sklearn.linear_model.LogisticRegression()\n",
    "    clf = svm.LinearSVC()\n",
    "    clf.fit(X_train, y_train)\n",
    "\n",
    "    #pred = clf.predict(X_dev)\n",
    "    #score = clf.score(X_dev, y_dev)\n",
    "    print(clf.score(X_train, y_train))\n",
    "    print(clf.score(X_dev, y_dev))\n",
    "    #print(y_test)\n",
    "\n",
    "    #print(clf.coef_)\n",
    "\n",
    "    used_feat_idx = [i for i in range(len(clf.coef_[0])) if clf.coef_[0][i] != 0.]\n",
    "\n",
    "    return used_feat_idx"
   ]
  },
  {
   "cell_type": "markdown",
   "metadata": {},
   "source": [
    "## Program"
   ]
  },
  {
   "cell_type": "code",
   "execution_count": 4,
   "metadata": {},
   "outputs": [],
   "source": [
    "data = preprocess.load_data()\n",
    "N = len(data)"
   ]
  },
  {
   "cell_type": "code",
   "execution_count": 9,
   "metadata": {},
   "outputs": [],
   "source": [
    "indexes = np.arange(N)\n",
    "np.random.shuffle(indexes)\n",
    "train_split = 0.7\n",
    "dev_split = 0.1\n",
    "test_split = 0.2\n",
    "\n",
    "train_indexes = indexes[:int(N * train_split)]\n",
    "dev_indexes = indexes[int(N * train_split): int(N * (train_split + dev_split))]\n",
    "test_indexes = indexes[int(N * (train_split + dev_split)):]\n",
    "\n",
    "# tmp:\n",
    "train_indexes = [0, 1, 2]\n",
    "\n",
    "train_data = data.iloc[train_indexes]\n",
    "dev_data = data.iloc[dev_indexes]\n",
    "\n",
    "X_train, y_train = prepare_data(train_data)\n",
    "X_dev, y_dev = prepare_data(dev_data)"
   ]
  },
  {
   "cell_type": "code",
   "execution_count": 14,
   "metadata": {},
   "outputs": [
    {
     "data": {
      "text/plain": [
       "<module 'matplotlib.pyplot' from '/usr/local/anaconda3/envs/asp/lib/python3.6/site-packages/matplotlib/pyplot.py'>"
      ]
     },
     "execution_count": 14,
     "metadata": {},
     "output_type": "execute_result"
    },
    {
     "data": {
      "image/png": "[encoded data removed]",
      "text/plain": [
       "<matplotlib.figure.Figure at 0x10f6350f0>"
      ]
     },
     "metadata": {},
     "output_type": "display_data"
    }
   ],
   "source": [
    "def prepare_plot_raw_data(data):\n",
    "\n",
    "    N = len(data)\n",
    "    num_features = len(data[\"positive\"].columns)\n",
    "\n",
    "    X = np.zeros((N * 2, num_features))\n",
    "    y = np.zeros(N * 2)\n",
    "\n",
    "    for i in range(N):\n",
    "\n",
    "        x_pos = data[\"positive\"].iloc[i].values\n",
    "        x_neg = data[\"negative\"].iloc[i].values\n",
    "\n",
    "        X[i] = x_pos\n",
    "        y[i] = 1\n",
    "\n",
    "        X[i + N] = x_neg\n",
    "        y[i + N] = 0\n",
    "\n",
    "    return X, y\n",
    "\n",
    "def plot_data(X, y):\n",
    "    pca = PCA(n_components=2)\n",
    "    X2 = pca.fit_transform(X)\n",
    "\n",
    "    x_11 = [X2[i][0] for i in range(len(X2)) if y[i] == 0]\n",
    "    x_12 = [X2[i][1] for i in range(len(X2)) if y[i] == 0]\n",
    "\n",
    "    x_21 = [X2[i][0] for i in range(len(X2)) if y[i] == 1]\n",
    "    x_22 = [X2[i][1] for i in range(len(X2)) if y[i] == 1]\n",
    "\n",
    "    plt.scatter(x_11, x_12, marker='^', c='r')\n",
    "    plt.scatter(x_21, x_22, marker='o', c='b')\n",
    "    return plt\n",
    "    \n",
    "plot_data(*prepare_plot_raw_data(train_data))"
   ]
  },
  {
   "cell_type": "code",
   "execution_count": null,
   "metadata": {},
   "outputs": [],
   "source": []
  }
 ],
 "metadata": {
  "kernelspec": {
   "display_name": "Python [conda env:asp]",
   "language": "python",
   "name": "conda-env-asp-py"
  },
  "language_info": {
   "codemirror_mode": {
    "name": "ipython",
    "version": 3
   },
   "file_extension": ".py",
   "mimetype": "text/x-python",
   "name": "python",
   "nbconvert_exporter": "python",
   "pygments_lexer": "ipython3",
   "version": "3.6.4"
  }
 },
 "nbformat": 4,
 "nbformat_minor": 2
}
