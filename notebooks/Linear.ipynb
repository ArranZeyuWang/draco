{
 "cells": [
  {
   "cell_type": "code",
   "execution_count": 1,
   "metadata": {},
   "outputs": [],
   "source": [
    "import matplotlib.pyplot as plt\n",
    "import numpy as np\n",
    "import pandas as pd\n",
    "import sklearn\n",
    "import sklearn.preprocessing as preproc\n",
    "from sklearn import svm\n",
    "from sklearn.decomposition import PCA\n",
    "from sklearn.utils import shuffle\n",
    "import pdvega\n",
    "\n",
    "from draco.learn import preprocess\n",
    "from draco.learn.helper import count_violations, current_weights\n",
    "from draco.spec import Data, Field\n",
    "\n",
    "%matplotlib inline"
   ]
  },
  {
   "cell_type": "code",
   "execution_count": 2,
   "metadata": {},
   "outputs": [],
   "source": [
    "np.random.seed(1)"
   ]
  },
  {
   "cell_type": "markdown",
   "metadata": {},
   "source": [
    "## Data preparation and learning functions"
   ]
  },
  {
   "cell_type": "code",
   "execution_count": 3,
   "metadata": {},
   "outputs": [],
   "source": [
    "def prepare_data(data: pd.DataFrame):\n",
    "    data = shuffle(data)\n",
    "    \n",
    "    split = int(len(data)/2)\n",
    "    \n",
    "    normal = data[:split]\n",
    "    inverted = data[split:]\n",
    "    \n",
    "    a = normal.positive - normal.negative\n",
    "    a['Y'] = 1\n",
    "    \n",
    "    b = inverted.negative - inverted.positive\n",
    "    b['Y'] = 0\n",
    "    \n",
    "    return pd.concat([a, b]).sort_index()"
   ]
  },
  {
   "cell_type": "code",
   "execution_count": 4,
   "metadata": {},
   "outputs": [],
   "source": [
    "def learn_weights(X_train, y_train, X_dev, y_dev):\n",
    "\n",
    "    #clf = sklearn.linear_model.LogisticRegression()\n",
    "    clf = svm.LinearSVC()\n",
    "    clf.fit(X_train, y_train)\n",
    "\n",
    "    #pred = clf.predict(X_dev)\n",
    "    #score = clf.score(X_dev, y_dev)\n",
    "    print(clf.score(X_train, y_train))\n",
    "    print(clf.score(X_dev, y_dev))\n",
    "    #print(y_test)\n",
    "\n",
    "    #print(clf.coef_)\n",
    "\n",
    "    used_feat_idx = [i for i in range(len(clf.coef_[0])) if clf.coef_[0][i] != 0.]\n",
    "\n",
    "    return used_feat_idx"
   ]
  },
  {
   "cell_type": "markdown",
   "metadata": {},
   "source": [
    "## Program"
   ]
  },
  {
   "cell_type": "code",
   "execution_count": 5,
   "metadata": {},
   "outputs": [],
   "source": [
    "data = preprocess.load_data()"
   ]
  },
  {
   "cell_type": "code",
   "execution_count": 6,
   "metadata": {},
   "outputs": [],
   "source": [
    "df = shuffle(data)\n",
    "train, dev, test = np.split(df.sample(frac=1), [int(.7*len(df)), int(.8*len(df))])\n",
    "\n",
    "train_data = df.iloc[:3]"
   ]
  },
  {
   "cell_type": "code",
   "execution_count": 11,
   "metadata": {},
   "outputs": [
    {
     "name": "stdout",
     "output_type": "stream",
     "text": [
      "          x         y  cat\n",
      "0 -1.977250 -0.484537  pos\n",
      "1  4.060821 -1.893943  pos\n",
      "2 -1.125860 -2.574301  pos\n",
      "3 -2.093804  1.142284  neg\n",
      "4  3.229896  2.668213  neg\n",
      "5 -2.093804  1.142284  neg\n"
     ]
    },
    {
     "name": "stderr",
     "output_type": "stream",
     "text": [
      "/usr/local/anaconda3/envs/asp/lib/python3.6/site-packages/ipykernel/__main__.py:3: SettingWithCopyWarning: \n",
      "A value is trying to be set on a copy of a slice from a DataFrame.\n",
      "Try using .loc[row_indexer,col_indexer] = value instead\n",
      "\n",
      "See the caveats in the documentation: http://pandas.pydata.org/pandas-docs/stable/indexing.html#indexing-view-versus-copy\n",
      "/usr/local/anaconda3/envs/asp/lib/python3.6/site-packages/ipykernel/__main__.py:6: SettingWithCopyWarning: \n",
      "A value is trying to be set on a copy of a slice from a DataFrame.\n",
      "Try using .loc[row_indexer,col_indexer] = value instead\n",
      "\n",
      "See the caveats in the documentation: http://pandas.pydata.org/pandas-docs/stable/indexing.html#indexing-view-versus-copy\n",
      "/usr/local/anaconda3/envs/asp/lib/python3.6/site-packages/pdvega/_utils.py:81: UserWarning: Unrecognized keywords in vgplot.scatter(): 'symbol'\n"
     ]
    },
    {
     "data": {
      "text/html": [
       "<div class=\"vega-embed\" id=\"cc2765dc-2fcd-4a3e-b659-124f8e9a460e\"></div>\n",
       "\n",
       "<style>\n",
       ".vega-embed svg, .vega-embed canvas {\n",
       "  border: 1px dotted gray;\n",
       "}\n",
       "\n",
       ".vega-embed .vega-actions a {\n",
       "  margin-right: 6px;\n",
       "}\n",
       "</style>\n"
      ]
     },
     "metadata": {
      "jupyter-vega3": "#cc2765dc-2fcd-4a3e-b659-124f8e9a460e"
     },
     "output_type": "display_data"
    },
    {
     "data": {
      "application/javascript": [
       "var spec = {\"mark\": \"circle\", \"encoding\": {\"x\": {\"field\": \"x\", \"type\": \"quantitative\"}, \"y\": {\"field\": \"y\", \"type\": \"quantitative\"}, \"color\": {\"field\": \"cat\", \"type\": \"nominal\"}, \"opacity\": {\"value\": 0.5}}, \"$schema\": \"https://vega.github.io/schema/vega-lite/v2.json\", \"width\": 450, \"height\": 300, \"selection\": {\"grid\": {\"type\": \"interval\", \"bind\": \"scales\"}}, \"data\": {\"values\": [{\"x\": -1.977249659832642, \"y\": -0.4845372386938192, \"cat\": \"pos\"}, {\"x\": 4.060821330439988, \"y\": -1.893943349682155, \"cat\": \"pos\"}, {\"x\": -1.1258601050676575, \"y\": -2.5743011106983555, \"cat\": \"pos\"}, {\"x\": -2.093803543100591, \"y\": 1.1422843154075322, \"cat\": \"neg\"}, {\"x\": 3.229895520661495, \"y\": 2.668213068259265, \"cat\": \"neg\"}, {\"x\": -2.093803543100591, \"y\": 1.142284315407532, \"cat\": \"neg\"}]}};\n",
       "var selector = \"#cc2765dc-2fcd-4a3e-b659-124f8e9a460e\";\n",
       "var type = \"vega-lite\";\n",
       "\n",
       "var output_area = this;\n",
       "require(['nbextensions/jupyter-vega3/index'], function(vega) {\n",
       "  vega.render(selector, spec, type, output_area);\n",
       "}, function (err) {\n",
       "  if (err.requireType !== 'scripterror') {\n",
       "    throw(err);\n",
       "  }\n",
       "});\n"
      ]
     },
     "metadata": {
      "jupyter-vega3": "#cc2765dc-2fcd-4a3e-b659-124f8e9a460e"
     },
     "output_type": "display_data"
    },
    {
     "data": {
      "image/png": "[encoded data removed]"
     },
     "metadata": {
      "jupyter-vega3": "#cc2765dc-2fcd-4a3e-b659-124f8e9a460e"
     },
     "output_type": "display_data"
    }
   ],
   "source": [
    "def prepare_plot_raw_data(data: pd.DataFrame):\n",
    "    pos = data.positive\n",
    "    pos['cat'] = 'pos'\n",
    "\n",
    "    neg = data.negative\n",
    "    neg['cat'] = 'neg'\n",
    "    \n",
    "    return pd.concat([pos, neg])\n",
    "\n",
    "def plot_data(data):\n",
    "    X = data.drop(columns=['cat'])\n",
    "    \n",
    "    pca = PCA(n_components=2)\n",
    "    X2 = pd.DataFrame(pca.fit_transform(X))\n",
    "    X2[2] = data.cat.values\n",
    "    \n",
    "    X2.columns = ['x', 'y', 'cat']\n",
    "    \n",
    "    print(X2)\n",
    "\n",
    "    return X2.vgplot.scatter('x', 'y', c='cat', alpha=0.5, symbol='cat')\n",
    "\n",
    "plot_data(prepare_plot_raw_data(train_data))"
   ]
  },
  {
   "cell_type": "code",
   "execution_count": null,
   "metadata": {},
   "outputs": [],
   "source": []
  }
 ],
 "metadata": {
  "kernelspec": {
   "display_name": "Python [conda env:asp]",
   "language": "python",
   "name": "conda-env-asp-py"
  },
  "language_info": {
   "codemirror_mode": {
    "name": "ipython",
    "version": 3
   },
   "file_extension": ".py",
   "mimetype": "text/x-python",
   "name": "python",
   "nbconvert_exporter": "python",
   "pygments_lexer": "ipython3",
   "version": "3.6.4"
  }
 },
 "nbformat": 4,
 "nbformat_minor": 2
}
