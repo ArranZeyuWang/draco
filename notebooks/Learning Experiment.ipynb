{
 "cells": [
  {
   "cell_type": "markdown",
   "metadata": {},
   "source": [
    "# Learning Experiment"
   ]
  },
  {
   "cell_type": "code",
   "execution_count": 29,
   "metadata": {},
   "outputs": [],
   "source": [
    "from draco.learn import linear\n",
    "from draco.learn import data_util\n",
    "from draco.run import run\n",
    "from draco.spec import Task, Query, AspTask\n",
    "from draco.learn.helper import count_violations\n",
    "import numpy as np\n",
    "import pandas as pd\n",
    "from sklearn.svm import SVC\n",
    "from sklearn.model_selection import train_test_split\n",
    "import logging\n",
    "from vega3 import VegaLite\n",
    "\n",
    "logging.basicConfig()\n",
    "logging.getLogger().setLevel(logging.WARN)"
   ]
  },
  {
   "cell_type": "code",
   "execution_count": 2,
   "metadata": {},
   "outputs": [],
   "source": [
    "data, _ = data_util.load_data(test_size=0)\n",
    "data = data[data.source != 'manual']\n",
    "\n",
    "raw_data = data_util.load_neg_pos_specs()\n",
    "\n",
    "data_yh = data[data.source == 'younghoon'] \n",
    "data_bh = data[data.source == 'bahador']\n",
    "\n",
    "X = data.negative - data.positive\n",
    "X_yh = data_yh.negative - data_yh.positive\n",
    "X_bh = data_bh.negative - data_bh.positive"
   ]
  },
  {
   "cell_type": "code",
   "execution_count": 3,
   "metadata": {},
   "outputs": [
    {
     "data": {
      "text/plain": [
       "(1152, 1152, 10, 10)"
      ]
     },
     "execution_count": 3,
     "metadata": {},
     "output_type": "execute_result"
    }
   ],
   "source": [
    "len(data_yh), len(X_yh), len(X_bh), len(data_bh)"
   ]
  },
  {
   "cell_type": "code",
   "execution_count": 4,
   "metadata": {},
   "outputs": [],
   "source": [
    "X_yh_train, X_yh_test = train_test_split(X_yh, test_size=0.3)\n",
    "X_bh_train, X_bh_test = train_test_split(X_bh, test_size=0.3)"
   ]
  },
  {
   "cell_type": "code",
   "execution_count": 5,
   "metadata": {},
   "outputs": [
    {
     "name": "stdout",
     "output_type": "stream",
     "text": [
      "Train score:  0.9439579684763573\n",
      "Dev score:  0.9102040816326531\n",
      "\n",
      "0.9268502581755593\n",
      "0.9104046242774566\n",
      "1.0\n"
     ]
    }
   ],
   "source": [
    "clf = linear.train_model(pd.concat([X_yh_train, X_bh]), test_size=0.3)\n",
    "print()\n",
    "print(clf.score(X, np.ones(len(X))))\n",
    "print(clf.score(X_yh_test, np.ones(len(X_yh_test))))\n",
    "print(clf.score(X_bh, np.ones(len(X_bh))))"
   ]
  },
  {
   "cell_type": "code",
   "execution_count": 6,
   "metadata": {},
   "outputs": [
    {
     "name": "stdout",
     "output_type": "stream",
     "text": [
      "Train score:  1.0\n"
     ]
    },
    {
     "data": {
      "text/plain": [
       "1.0"
      ]
     },
     "execution_count": 6,
     "metadata": {},
     "output_type": "execute_result"
    }
   ],
   "source": [
    "clf = linear.train_model(X_bh, test_size=0)\n",
    "\n",
    "clf.score(X_bh, np.ones(len(X_bh)))"
   ]
  },
  {
   "cell_type": "code",
   "execution_count": 7,
   "metadata": {},
   "outputs": [
    {
     "name": "stdout",
     "output_type": "stream",
     "text": [
      "Train score:  0.9379432624113475\n",
      "Dev score:  0.9132231404958677\n"
     ]
    },
    {
     "data": {
      "text/plain": [
       "0.9219653179190751"
      ]
     },
     "execution_count": 7,
     "metadata": {},
     "output_type": "execute_result"
    }
   ],
   "source": [
    "clf = linear.train_model(X_yh_train, test_size=0.3)\n",
    "\n",
    "clf.score(X_yh_test, np.ones(len(X_yh_test)))"
   ]
  },
  {
   "cell_type": "markdown",
   "metadata": {},
   "source": [
    "# Apply a learned model to partial specifications\n",
    "\n",
    "See whether it comes up with the optimum"
   ]
  },
  {
   "cell_type": "code",
   "execution_count": 8,
   "metadata": {},
   "outputs": [
    {
     "name": "stdout",
     "output_type": "stream",
     "text": [
      "Train score:  0.9320137693631669\n"
     ]
    }
   ],
   "source": [
    "clf = linear.train_model(X, test_size=0)"
   ]
  },
  {
   "cell_type": "code",
   "execution_count": 12,
   "metadata": {},
   "outputs": [],
   "source": [
    "weights = clf.coef_[0]\n",
    "names = X.columns\n",
    "\n",
    "const_dict = dict(zip(map(lambda x: f'{x}_weight', names), map(int, weights*10000)))"
   ]
  },
  {
   "cell_type": "code",
   "execution_count": 23,
   "metadata": {},
   "outputs": [],
   "source": [
    "task = AspTask('''\n",
    "% only three encodings\n",
    "3 { encoding(E): encoding(E) } 3.\n",
    "\n",
    "% two quantitative, one nominal\n",
    "2 { type(E,quantitative): encoding(E) } 2.\n",
    "1 { type(E,nominal): encoding(E) } 1.\n",
    ":- type(_,ordinal).\n",
    "\n",
    "% only scatterplots\n",
    ":- not mark(point).\n",
    "\n",
    "% always use zero for quantitative\n",
    ":- type(E,quantitative), not zero(E).\n",
    "\n",
    "% no aggregations\n",
    ":- aggregate(E,_).\n",
    "\n",
    "% no binning\n",
    ":- bin(E,_).\n",
    "\n",
    "% ====== Data definitions ======\n",
    "data_size(30).\n",
    "\n",
    "fieldtype(n,string).\n",
    "cardinality(n,10).\n",
    "interesting(n).\n",
    "\n",
    "fieldtype(q1,number).\n",
    "cardinality(q1,30).\n",
    "interesting(q1).\n",
    "entropy(q1,38).\n",
    "\n",
    "fieldtype(q2,number).\n",
    "cardinality(q2,30).\n",
    "entropy(q2,39).\n",
    "\n",
    "% ====== Query constraints ======\n",
    "\n",
    "task(summary).\n",
    "\n",
    "mark(point).\n",
    "\n",
    "encoding(enc_n).\n",
    "type(enc_n,nominal).\n",
    "field(enc_n,n).\n",
    "\n",
    "encoding(enc_q1).\n",
    "type(enc_q1,quantitative).\n",
    "field(enc_q1,q1).\n",
    "\n",
    "encoding(enc_q2).\n",
    "type(enc_q2,quantitative).\n",
    "field(enc_q2,q2).\n",
    "''')\n",
    "\n",
    "out = run(task,\n",
    "    constants=const_dict,\n",
    "    files=['define.lp', 'generate.lp', 'test.lp', 'features.lp', 'weights.lp',\n",
    "           'assign_weights.lp', 'optimize.lp', 'output.lp']\n",
    "   )"
   ]
  },
  {
   "cell_type": "code",
   "execution_count": 28,
   "metadata": {},
   "outputs": [
    {
     "data": {
      "text/plain": [
       "{'$schema': 'https://vega.github.io/schema/vega-lite/v2.0.json',\n",
       " 'data': {'url': '__none__'},\n",
       " 'encoding': {'color': {'field': 'q2',\n",
       "   'scale': {'zero': True},\n",
       "   'type': 'quantitative'},\n",
       "  'size': {'field': 'q1', 'scale': {'zero': True}, 'type': 'quantitative'},\n",
       "  'y': {'field': 'n', 'type': 'nominal'}},\n",
       " 'mark': 'point'}"
      ]
     },
     "execution_count": 28,
     "metadata": {},
     "output_type": "execute_result"
    }
   ],
   "source": [
    "spec = out.to_vegalite()\n",
    "spec"
   ]
  },
  {
   "cell_type": "code",
   "execution_count": 31,
   "metadata": {},
   "outputs": [
    {
     "data": {
      "text/html": [
       "<div class=\"vega-embed\" id=\"6f42c467-d549-4f8d-946c-25ae774698e9\"></div>\n",
       "\n",
       "<style>\n",
       ".vega-embed svg, .vega-embed canvas {\n",
       "  border: 1px dotted gray;\n",
       "}\n",
       "\n",
       ".vega-embed .vega-actions a {\n",
       "  margin-right: 6px;\n",
       "}\n",
       "</style>\n"
      ]
     },
     "metadata": {
      "jupyter-vega3": "#6f42c467-d549-4f8d-946c-25ae774698e9"
     },
     "output_type": "display_data"
    },
    {
     "data": {
      "application/javascript": [
       "var spec = {\"mark\": \"point\", \"encoding\": {\"y\": {\"field\": \"n\", \"type\": \"nominal\"}, \"size\": {\"scale\": {\"zero\": true}, \"field\": \"q1\", \"type\": \"quantitative\"}, \"color\": {\"scale\": {\"zero\": true}, \"field\": \"q2\", \"type\": \"quantitative\"}}, \"data\": {\"values\": [{\"q1\": 1, \"q2\": 1, \"n\": 1}, {\"q1\": 2, \"q2\": 3, \"n\": 2}]}, \"$schema\": \"https://vega.github.io/schema/vega-lite/v2.0.json\"};\n",
       "var selector = \"#6f42c467-d549-4f8d-946c-25ae774698e9\";\n",
       "var type = \"vega-lite\";\n",
       "\n",
       "var output_area = this;\n",
       "require(['nbextensions/jupyter-vega3/index'], function(vega) {\n",
       "  vega.render(selector, spec, type, output_area);\n",
       "}, function (err) {\n",
       "  if (err.requireType !== 'scripterror') {\n",
       "    throw(err);\n",
       "  }\n",
       "});\n"
      ]
     },
     "metadata": {
      "jupyter-vega3": "#6f42c467-d549-4f8d-946c-25ae774698e9"
     },
     "output_type": "display_data"
    },
    {
     "data": {
      "image/png": "[encoded data removed]"
     },
     "metadata": {
      "jupyter-vega3": "#6f42c467-d549-4f8d-946c-25ae774698e9"
     },
     "output_type": "display_data"
    }
   ],
   "source": [
    "spec['data'] = {'values': [{'q1': 1, 'q2': 1, 'n': 1}, {'q1': 2, 'q2': 3, 'n': 2}]}\n",
    "\n",
    "VegaLite(spec)"
   ]
  },
  {
   "cell_type": "code",
   "execution_count": null,
   "metadata": {},
   "outputs": [],
   "source": []
  }
 ],
 "metadata": {
  "kernelspec": {
   "display_name": "Python [conda env:asp]",
   "language": "python",
   "name": "conda-env-asp-py"
  },
  "language_info": {
   "codemirror_mode": {
    "name": "ipython",
    "version": 3
   },
   "file_extension": ".py",
   "mimetype": "text/x-python",
   "name": "python",
   "nbconvert_exporter": "python",
   "pygments_lexer": "ipython3",
   "version": "3.6.4"
  }
 },
 "nbformat": 4,
 "nbformat_minor": 2
}
