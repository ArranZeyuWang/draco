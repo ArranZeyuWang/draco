{
 "cells": [
  {
   "cell_type": "markdown",
   "metadata": {},
   "source": [
    "# Learning Experiment"
   ]
  },
  {
   "cell_type": "code",
   "execution_count": 1,
   "metadata": {},
   "outputs": [],
   "source": [
    "from draco.learn import linear\n",
    "from draco.learn import data_util\n",
    "from draco.run import run\n",
    "from draco.spec import Task, Query, AspTask, Encoding, Field, Data\n",
    "from draco.learn.helper import count_violations\n",
    "import numpy as np\n",
    "import pandas as pd\n",
    "from sklearn.svm import SVC\n",
    "from sklearn.model_selection import train_test_split\n",
    "import logging\n",
    "from vega3 import VegaLite\n",
    "\n",
    "logging.basicConfig()\n",
    "logging.getLogger().setLevel(logging.WARN)"
   ]
  },
  {
   "cell_type": "code",
   "execution_count": 2,
   "metadata": {},
   "outputs": [],
   "source": [
    "data, _ = data_util.load_data(test_size=0)\n",
    "data = data[data.source != 'manual']\n",
    "\n",
    "raw_data = data_util.load_neg_pos_specs()\n",
    "\n",
    "data_yh = data[data.source == 'younghoon'] \n",
    "data_bh = data[data.source == 'bahador']\n",
    "\n",
    "X = data.negative - data.positive\n",
    "X_yh = data_yh.negative - data_yh.positive\n",
    "X_bh = data_bh.negative - data_bh.positive"
   ]
  },
  {
   "cell_type": "code",
   "execution_count": 3,
   "metadata": {},
   "outputs": [
    {
     "data": {
      "text/plain": [
       "(1152, 1152, 10, 10)"
      ]
     },
     "execution_count": 3,
     "metadata": {},
     "output_type": "execute_result"
    }
   ],
   "source": [
    "len(data_yh), len(X_yh), len(X_bh), len(data_bh)"
   ]
  },
  {
   "cell_type": "code",
   "execution_count": 4,
   "metadata": {},
   "outputs": [],
   "source": [
    "X_yh_train, X_yh_test = train_test_split(X_yh, test_size=0.3)\n",
    "X_bh_train, X_bh_test = train_test_split(X_bh, test_size=0.3)"
   ]
  },
  {
   "cell_type": "code",
   "execution_count": 5,
   "metadata": {},
   "outputs": [
    {
     "name": "stdout",
     "output_type": "stream",
     "text": [
      "Train score:  0.9141856392294221\n",
      "Dev score:  0.9346938775510204\n",
      "\n",
      "0.9251290877796902\n",
      "0.9364161849710982\n",
      "1.0\n"
     ]
    }
   ],
   "source": [
    "clf = linear.train_model(pd.concat([X_yh_train, X_bh]), test_size=0.3)\n",
    "print()\n",
    "print(clf.score(X, np.ones(len(X))))\n",
    "print(clf.score(X_yh_test, np.ones(len(X_yh_test))))\n",
    "print(clf.score(X_bh, np.ones(len(X_bh))))"
   ]
  },
  {
   "cell_type": "code",
   "execution_count": 6,
   "metadata": {},
   "outputs": [
    {
     "name": "stdout",
     "output_type": "stream",
     "text": [
      "Train score:  1.0\n"
     ]
    },
    {
     "data": {
      "text/plain": [
       "1.0"
      ]
     },
     "execution_count": 6,
     "metadata": {},
     "output_type": "execute_result"
    }
   ],
   "source": [
    "clf = linear.train_model(X_bh, test_size=0)\n",
    "\n",
    "clf.score(X_bh, np.ones(len(X_bh)))"
   ]
  },
  {
   "cell_type": "code",
   "execution_count": 7,
   "metadata": {},
   "outputs": [
    {
     "name": "stdout",
     "output_type": "stream",
     "text": [
      "Train score:  0.925531914893617\n",
      "Dev score:  0.9297520661157025\n"
     ]
    },
    {
     "data": {
      "text/plain": [
       "0.9393063583815029"
      ]
     },
     "execution_count": 7,
     "metadata": {},
     "output_type": "execute_result"
    }
   ],
   "source": [
    "clf = linear.train_model(X_yh_train, test_size=0.3)\n",
    "\n",
    "clf.score(X_yh_test, np.ones(len(X_yh_test)))"
   ]
  },
  {
   "cell_type": "markdown",
   "metadata": {},
   "source": [
    "# Apply a learned model to partial specifications\n",
    "\n",
    "See whether it comes up with the optimum"
   ]
  },
  {
   "cell_type": "code",
   "execution_count": 8,
   "metadata": {},
   "outputs": [
    {
     "name": "stdout",
     "output_type": "stream",
     "text": [
      "Train score:  0.9294320137693631\n"
     ]
    }
   ],
   "source": [
    "clf = linear.train_model(X, test_size=0)"
   ]
  },
  {
   "cell_type": "code",
   "execution_count": 9,
   "metadata": {},
   "outputs": [],
   "source": [
    "weights = clf.coef_[0]\n",
    "names = X.columns\n",
    "\n",
    "const_dict = dict(zip(map(lambda x: f'{x}_weight', names), map(int, weights*1000)))"
   ]
  },
  {
   "cell_type": "code",
   "execution_count": 10,
   "metadata": {},
   "outputs": [
    {
     "name": "stdout",
     "output_type": "stream",
     "text": [
      "Cost: -499\n"
     ]
    },
    {
     "data": {
      "text/html": [
       "<div class=\"vega-embed\" id=\"aa60538d-f8bf-46fe-8263-7eaba1c2bba7\"></div>\n",
       "\n",
       "<style>\n",
       ".vega-embed svg, .vega-embed canvas {\n",
       "  border: 1px dotted gray;\n",
       "}\n",
       "\n",
       ".vega-embed .vega-actions a {\n",
       "  margin-right: 6px;\n",
       "}\n",
       "</style>\n"
      ]
     },
     "metadata": {
      "jupyter-vega3": "#aa60538d-f8bf-46fe-8263-7eaba1c2bba7"
     },
     "output_type": "display_data"
    },
    {
     "data": {
      "application/javascript": [
       "var spec = {\"mark\": \"point\", \"encoding\": {\"y\": {\"scale\": {\"zero\": true}, \"field\": \"q1\", \"type\": \"quantitative\"}, \"color\": {\"scale\": {\"zero\": true}, \"field\": \"q2\", \"type\": \"quantitative\"}, \"x\": {\"field\": \"n\", \"type\": \"nominal\"}}, \"data\": {\"values\": [{\"n\": \"trip\", \"q1\": 0.9669, \"q2\": 0.6749}, {\"n\": \"masts\", \"q1\": 0.6674, \"q2\": 1.5118}, {\"n\": \"trip\", \"q1\": 0.2857, \"q2\": 1.5386}, {\"n\": \"trip\", \"q1\": 1.3018, \"q2\": 0.1463}, {\"n\": \"masts\", \"q1\": 0.1128, \"q2\": 1.2112}, {\"n\": \"masts\", \"q1\": 1.444, \"q2\": 0.9121}, {\"n\": \"trip\", \"q1\": 1.8771, \"q2\": 0.9426}, {\"n\": \"north\", \"q1\": 0.0016, \"q2\": 0.4833}, {\"n\": \"trip\", \"q1\": 1.9844, \"q2\": 1.9665}]}, \"$schema\": \"https://vega.github.io/schema/vega-lite/v2.0.json\"};\n",
       "var selector = \"#aa60538d-f8bf-46fe-8263-7eaba1c2bba7\";\n",
       "var type = \"vega-lite\";\n",
       "\n",
       "var output_area = this;\n",
       "require(['nbextensions/jupyter-vega3/index'], function(vega) {\n",
       "  vega.render(selector, spec, type, output_area);\n",
       "}, function (err) {\n",
       "  if (err.requireType !== 'scripterror') {\n",
       "    throw(err);\n",
       "  }\n",
       "});\n"
      ]
     },
     "metadata": {
      "jupyter-vega3": "#aa60538d-f8bf-46fe-8263-7eaba1c2bba7"
     },
     "output_type": "display_data"
    },
    {
     "data": {
      "image/png": "[encoded data removed]"
     },
     "metadata": {
      "jupyter-vega3": "#aa60538d-f8bf-46fe-8263-7eaba1c2bba7"
     },
     "output_type": "display_data"
    }
   ],
   "source": [
    "cardinalities = [3, 10, 20]\n",
    "per_categories = [3, 30]\n",
    "entropy = [3.9, 0.8]\n",
    "tasks = ['value', 'summary']\n",
    "\n",
    "#                      0            1            2            3            4            5\n",
    "configurations = [(0,0,0,0,0), (1,0,0,0,0), (2,0,0,0,0), (0,1,0,0,0), (0,0,1,0,0), (0,0,0,1,0),\n",
    "                  (0,0,0,0,1), (1,0,0,0,1), (2,0,0,0,1), (0,1,0,0,1), (0,0,1,0,1), (0,0,0,1,1)]\n",
    "#                       6           7            8            9           10           11\n",
    "\n",
    "# cardinality = cardinalities[0]  # 0,1,2\n",
    "# per_category = per_categories[1]  # 0,1\n",
    "# entropy_q1 = entropy[1]  # 0,1\n",
    "# entropy_q2 = entropy[0]  # 0,1\n",
    "# task = tasks[0]  # 0,1\n",
    "\n",
    "config = configurations[11]\n",
    "\n",
    "cardinality = cardinalities[config[0]]  # 0,1,2\n",
    "per_category = per_categories[config[1]]  # 0,1\n",
    "entropy_q1 = entropy[config[2]]  # 0,1\n",
    "entropy_q2 = entropy[config[3]]  # 0,1\n",
    "task = tasks[config[4]]  # 0,1\n",
    "\n",
    "data_size = per_category * cardinality\n",
    "fields = list(map(Field.from_obj, [\n",
    "    {\n",
    "      \"name\": \"n\",\n",
    "      \"type\": \"string\",\n",
    "      \"entropy\": 1,\n",
    "      \"cardinality\": cardinality,\n",
    "      \"interesting\": task == 'summary'\n",
    "    },\n",
    "    {\n",
    "      \"name\": \"q1\",\n",
    "      \"type\": \"number\",\n",
    "      \"entropy\": entropy_q1,\n",
    "      \"cardinality\": data_size,\n",
    "      \"interesting\": True\n",
    "    },\n",
    "    {\n",
    "      \"name\": \"q2\",\n",
    "      \"type\": \"number\",\n",
    "      \"entropy\": entropy_q2,\n",
    "      \"cardinality\": data_size\n",
    "    }\n",
    "]))\n",
    "spec_schema = Data(fields, data_size)\n",
    "spec_schema.fill_with_random_content()\n",
    "\n",
    "task = Task(spec_schema,\n",
    "            Query(\n",
    "                mark=None,\n",
    "                encodings=[\n",
    "                    Encoding(field='q1', ty='quantitative'),\n",
    "                    Encoding(field='q2', ty='quantitative'),\n",
    "                    Encoding(field='n', ty='nominal')\n",
    "                ]),\n",
    "            task=task\n",
    "           )\n",
    "\n",
    "out = run(task,\n",
    "    constants=const_dict,\n",
    "    files=['define.lp', 'generate.lp', 'test.lp', 'features.lp', 'weights.lp',\n",
    "           'assign_weights.lp', 'optimize.lp', 'output.lp', 'younghoon.lp'],\n",
    "    clear_cache=True\n",
    "   )\n",
    "\n",
    "print('Cost:', out.cost)\n",
    "\n",
    "spec = out.to_vegalite()\n",
    "VegaLite(spec)"
   ]
  },
  {
   "cell_type": "code",
   "execution_count": 12,
   "metadata": {},
   "outputs": [
    {
     "name": "stderr",
     "output_type": "stream",
     "text": [
      "WARNING:draco.run:Cleared file cache\n"
     ]
    },
    {
     "name": "stdout",
     "output_type": "stream",
     "text": [
      "Cost: 989\n"
     ]
    },
    {
     "data": {
      "text/html": [
       "<div class=\"vega-embed\" id=\"44675cda-ea55-432a-bbb6-3adf490e7aab\"></div>\n",
       "\n",
       "<style>\n",
       ".vega-embed svg, .vega-embed canvas {\n",
       "  border: 1px dotted gray;\n",
       "}\n",
       "\n",
       ".vega-embed .vega-actions a {\n",
       "  margin-right: 6px;\n",
       "}\n",
       "</style>\n"
      ]
     },
     "metadata": {
      "jupyter-vega3": "#44675cda-ea55-432a-bbb6-3adf490e7aab"
     },
     "output_type": "display_data"
    },
    {
     "data": {
      "application/javascript": [
       "var spec = {\"mark\": \"point\", \"encoding\": {\"x\": {\"field\": \"n\", \"type\": \"nominal\"}, \"y\": {\"scale\": {\"zero\": false}, \"field\": \"q2\", \"type\": \"quantitative\", \"aggregate\": \"mean\"}}, \"data\": {\"values\": [{\"n\": \"ceramics\", \"o1\": 1.5527, \"q2\": 1.2858}, {\"n\": \"checkers\", \"o1\": 1.2686, \"q2\": 0.4666}, {\"n\": \"rinses\", \"o1\": 0.8357, \"q2\": 0.8502}, {\"n\": \"chattel\", \"o1\": 1.1899, \"q2\": 0.7402}, {\"n\": \"ceramics\", \"o1\": 0.8378, \"q2\": 0.7538}, {\"n\": \"pistols\", \"o1\": 0.837, \"q2\": 0.2511}, {\"n\": \"ceramics\", \"o1\": 1.0847, \"q2\": 0.7797}, {\"n\": \"rinses\", \"o1\": 0.3304, \"q2\": 1.2092}, {\"n\": \"chattel\", \"o1\": 0.8639, \"q2\": 1.0285}]}, \"$schema\": \"https://vega.github.io/schema/vega-lite/v2.0.json\"};\n",
       "var selector = \"#44675cda-ea55-432a-bbb6-3adf490e7aab\";\n",
       "var type = \"vega-lite\";\n",
       "\n",
       "var output_area = this;\n",
       "require(['nbextensions/jupyter-vega3/index'], function(vega) {\n",
       "  vega.render(selector, spec, type, output_area);\n",
       "}, function (err) {\n",
       "  if (err.requireType !== 'scripterror') {\n",
       "    throw(err);\n",
       "  }\n",
       "});\n"
      ]
     },
     "metadata": {
      "jupyter-vega3": "#44675cda-ea55-432a-bbb6-3adf490e7aab"
     },
     "output_type": "display_data"
    },
    {
     "data": {
      "image/png": "[encoded data removed]"
     },
     "metadata": {
      "jupyter-vega3": "#44675cda-ea55-432a-bbb6-3adf490e7aab"
     },
     "output_type": "display_data"
    }
   ],
   "source": [
    "task = 'value'\n",
    "mark = 'point'\n",
    "\n",
    "fields = list(map(Field.from_obj, [\n",
    "    {\n",
    "      \"name\": \"n\",\n",
    "      \"type\": \"string\",\n",
    "      \"cardinality\": 9\n",
    "    },\n",
    "    {\n",
    "      \"name\": \"o1\",\n",
    "      \"type\": \"number\",\n",
    "      \"cardinality\": 25\n",
    "    },\n",
    "    {\n",
    "      \"name\": \"q2\",\n",
    "      \"type\": \"number\",\n",
    "      \"cardinality\": 407\n",
    "    }\n",
    "]))\n",
    "spec_schema = Data(fields, data_size)\n",
    "spec_schema.fill_with_random_content()\n",
    "\n",
    "task = Task(spec_schema,\n",
    "            Query(\n",
    "                mark=mark,\n",
    "                encodings=[\n",
    "                    Encoding(channel='x', field='n', ty='nominal'),\n",
    "                    # Encoding(channel='x', field='o1', ty='ordinal'),\n",
    "                    Encoding(channel='y', field='q2', ty='quantitative'),\n",
    "                ]),\n",
    "            task=task\n",
    "           )\n",
    "\n",
    "out = run(task,\n",
    "    constants=const_dict,\n",
    "    files=['define.lp', 'generate.lp', 'test.lp', 'features.lp', 'weights.lp',\n",
    "           'assign_weights.lp', 'optimize.lp', 'output.lp', 'bahador.lp'],\n",
    "    clear_cache=True\n",
    "   )\n",
    "\n",
    "print('Cost:', out.cost)\n",
    "\n",
    "spec = out.to_vegalite()\n",
    "VegaLite(spec)"
   ]
  },
  {
   "cell_type": "code",
   "execution_count": null,
   "metadata": {},
   "outputs": [],
   "source": []
  }
 ],
 "metadata": {
  "kernelspec": {
   "display_name": "Python [conda env:asp]",
   "language": "python",
   "name": "conda-env-asp-py"
  },
  "language_info": {
   "codemirror_mode": {
    "name": "ipython",
    "version": 3
   },
   "file_extension": ".py",
   "mimetype": "text/x-python",
   "name": "python",
   "nbconvert_exporter": "python",
   "pygments_lexer": "ipython3",
   "version": "3.6.4"
  }
 },
 "nbformat": 4,
 "nbformat_minor": 2
}
