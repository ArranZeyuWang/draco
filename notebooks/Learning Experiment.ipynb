{
 "cells": [
  {
   "cell_type": "markdown",
   "metadata": {},
   "source": [
    "# Learning Experiment"
   ]
  },
  {
   "cell_type": "code",
   "execution_count": 1,
   "metadata": {},
   "outputs": [],
   "source": [
    "from draco.learn import linear\n",
    "from draco.learn import data_util\n",
    "from draco.run import run\n",
    "from draco.spec import Task, Query, AspTask, Encoding, Field, Data\n",
    "from draco.learn.helper import count_violations\n",
    "import numpy as np\n",
    "import pandas as pd\n",
    "from sklearn.svm import SVC\n",
    "from sklearn.model_selection import train_test_split\n",
    "import logging\n",
    "from vega3 import VegaLite\n",
    "\n",
    "logging.basicConfig()\n",
    "logging.getLogger().setLevel(logging.WARN)"
   ]
  },
  {
   "cell_type": "code",
   "execution_count": 2,
   "metadata": {},
   "outputs": [],
   "source": [
    "data, _ = data_util.load_data(test_size=0)\n",
    "data = data[data.source != 'manual']\n",
    "\n",
    "raw_data = data_util.load_neg_pos_specs()\n",
    "\n",
    "data_yh = data[data.source == 'younghoon'] \n",
    "data_bh = data[data.source == 'bahador']\n",
    "\n",
    "X = data.negative - data.positive\n",
    "X_yh = data_yh.negative - data_yh.positive\n",
    "X_bh = data_bh.negative - data_bh.positive"
   ]
  },
  {
   "cell_type": "code",
   "execution_count": 3,
   "metadata": {},
   "outputs": [
    {
     "data": {
      "text/plain": [
       "(1152, 1152, 10, 10)"
      ]
     },
     "execution_count": 3,
     "metadata": {},
     "output_type": "execute_result"
    }
   ],
   "source": [
    "len(data_yh), len(X_yh), len(X_bh), len(data_bh)"
   ]
  },
  {
   "cell_type": "code",
   "execution_count": 4,
   "metadata": {},
   "outputs": [],
   "source": [
    "X_yh_train, X_yh_test = train_test_split(X_yh, test_size=0.3)\n",
    "X_bh_train, X_bh_test = train_test_split(X_bh, test_size=0.3)"
   ]
  },
  {
   "cell_type": "code",
   "execution_count": 5,
   "metadata": {},
   "outputs": [
    {
     "name": "stdout",
     "output_type": "stream",
     "text": [
      "Train score:  0.9299474605954466\n",
      "Dev score:  0.9346938775510204\n",
      "\n",
      "0.9294320137693631\n",
      "0.9248554913294798\n",
      "1.0\n"
     ]
    }
   ],
   "source": [
    "clf = linear.train_model(pd.concat([X_yh_train, X_bh]), test_size=0.3)\n",
    "print()\n",
    "print(clf.score(X, np.ones(len(X))))\n",
    "print(clf.score(X_yh_test, np.ones(len(X_yh_test))))\n",
    "print(clf.score(X_bh, np.ones(len(X_bh))))"
   ]
  },
  {
   "cell_type": "code",
   "execution_count": 6,
   "metadata": {},
   "outputs": [
    {
     "name": "stdout",
     "output_type": "stream",
     "text": [
      "Train score:  1.0\n"
     ]
    },
    {
     "data": {
      "text/plain": [
       "1.0"
      ]
     },
     "execution_count": 6,
     "metadata": {},
     "output_type": "execute_result"
    }
   ],
   "source": [
    "clf = linear.train_model(X_bh, test_size=0)\n",
    "\n",
    "clf.score(X_bh, np.ones(len(X_bh)))"
   ]
  },
  {
   "cell_type": "code",
   "execution_count": 7,
   "metadata": {},
   "outputs": [
    {
     "name": "stdout",
     "output_type": "stream",
     "text": [
      "Train score:  0.9237588652482269\n",
      "Dev score:  0.9297520661157025\n"
     ]
    },
    {
     "data": {
      "text/plain": [
       "0.9104046242774566"
      ]
     },
     "execution_count": 7,
     "metadata": {},
     "output_type": "execute_result"
    }
   ],
   "source": [
    "clf = linear.train_model(X_yh_train, test_size=0.3)\n",
    "\n",
    "clf.score(X_yh_test, np.ones(len(X_yh_test)))"
   ]
  },
  {
   "cell_type": "markdown",
   "metadata": {},
   "source": [
    "# Apply a learned model to partial specifications\n",
    "\n",
    "See whether it comes up with the optimum"
   ]
  },
  {
   "cell_type": "code",
   "execution_count": 8,
   "metadata": {},
   "outputs": [
    {
     "name": "stdout",
     "output_type": "stream",
     "text": [
      "Train score:  0.9320137693631669\n"
     ]
    }
   ],
   "source": [
    "clf = linear.train_model(X, test_size=0)"
   ]
  },
  {
   "cell_type": "code",
   "execution_count": 9,
   "metadata": {},
   "outputs": [],
   "source": [
    "weights = clf.coef_[0]\n",
    "names = X.columns\n",
    "\n",
    "const_dict = dict(zip(map(lambda x: f'{x}_weight', names), map(int, weights*10000)))"
   ]
  },
  {
   "cell_type": "code",
   "execution_count": 11,
   "metadata": {},
   "outputs": [
    {
     "data": {
      "text/html": [
       "<div class=\"vega-embed\" id=\"0303791d-4323-407c-8804-b0ca2519b52d\"></div>\n",
       "\n",
       "<style>\n",
       ".vega-embed svg, .vega-embed canvas {\n",
       "  border: 1px dotted gray;\n",
       "}\n",
       "\n",
       ".vega-embed .vega-actions a {\n",
       "  margin-right: 6px;\n",
       "}\n",
       "</style>\n"
      ]
     },
     "metadata": {
      "jupyter-vega3": "#0303791d-4323-407c-8804-b0ca2519b52d"
     },
     "output_type": "display_data"
    },
    {
     "data": {
      "application/javascript": [
       "var spec = {\"mark\": \"point\", \"encoding\": {\"y\": {\"scale\": {\"zero\": true}, \"field\": \"q1\", \"type\": \"quantitative\"}, \"color\": {\"scale\": {\"zero\": true}, \"field\": \"q2\", \"type\": \"quantitative\"}, \"x\": {\"field\": \"n\", \"type\": \"nominal\"}}, \"data\": {\"values\": [{\"n\": \"linkages\", \"q1\": 2.3577, \"q2\": 4.552}, {\"n\": \"jaw\", \"q1\": 1.2795, \"q2\": -0.8229}, {\"n\": \"decision\", \"q1\": 1.4782, \"q2\": 0.675}, {\"n\": \"translator\", \"q1\": -0.7134, \"q2\": 2.099}, {\"n\": \"eligibility\", \"q1\": -2.025, \"q2\": 2.8096}, {\"n\": \"decision\", \"q1\": 2.0207, \"q2\": 1.1826}, {\"n\": \"strike\", \"q1\": 0.685, \"q2\": 0.5585}, {\"n\": \"jaw\", \"q1\": 2.7525, \"q2\": -3.4946}, {\"n\": \"linkages\", \"q1\": 2.0552, \"q2\": 2.0915}, {\"n\": \"giants\", \"q1\": -0.394, \"q2\": -0.0786}, {\"n\": \"submission\", \"q1\": 6.6472, \"q2\": 0.5476}, {\"n\": \"submission\", \"q1\": 2.1146, \"q2\": 1.9275}, {\"n\": \"submission\", \"q1\": 1.6607, \"q2\": 2.8327}, {\"n\": \"submission\", \"q1\": 3.1924, \"q2\": 2.4693}, {\"n\": \"giants\", \"q1\": 1.5424, \"q2\": -2.1904}, {\"n\": \"giants\", \"q1\": 1.5985, \"q2\": -4.4463}, {\"n\": \"linkages\", \"q1\": 2.2333, \"q2\": -0.2137}, {\"n\": \"hatch\", \"q1\": -1.4973, \"q2\": 1.1299}, {\"n\": \"submission\", \"q1\": 0.0955, \"q2\": 2.7565}, {\"n\": \"giants\", \"q1\": 4.0687, \"q2\": -0.3917}, {\"n\": \"eligibility\", \"q1\": 2.0148, \"q2\": 1.8066}, {\"n\": \"careers\", \"q1\": 2.4456, \"q2\": 2.671}, {\"n\": \"neutron\", \"q1\": -0.9124, \"q2\": 1.8855}, {\"n\": \"chatter\", \"q1\": 1.9905, \"q2\": 1.9814}, {\"n\": \"neutron\", \"q1\": -0.693, \"q2\": 2.9423}, {\"n\": \"jaw\", \"q1\": -0.9828, \"q2\": 2.568}, {\"n\": \"porters\", \"q1\": -0.1789, \"q2\": -1.0563}, {\"n\": \"neutron\", \"q1\": -0.2552, \"q2\": 1.6322}, {\"n\": \"geography\", \"q1\": 1.445, \"q2\": 3.2263}, {\"n\": \"linkages\", \"q1\": -1.9534, \"q2\": -1.9667}, {\"n\": \"porters\", \"q1\": -0.392, \"q2\": -2.7623}, {\"n\": \"strike\", \"q1\": 0.2546, \"q2\": -0.1285}, {\"n\": \"representatives\", \"q1\": -0.2544, \"q2\": 0.8586}, {\"n\": \"jaw\", \"q1\": 1.5364, \"q2\": 2.8033}, {\"n\": \"decision\", \"q1\": 1.2415, \"q2\": -3.4463}, {\"n\": \"decision\", \"q1\": 0.9434, \"q2\": 1.7053}, {\"n\": \"careers\", \"q1\": -2.5982, \"q2\": 0.2044}, {\"n\": \"buttons\", \"q1\": 2.29, \"q2\": -0.6144}, {\"n\": \"buttons\", \"q1\": 0.7834, \"q2\": -1.8278}, {\"n\": \"cartridges\", \"q1\": -0.0195, \"q2\": 1.0187}, {\"n\": \"representatives\", \"q1\": 2.4172, \"q2\": -0.8466}, {\"n\": \"giants\", \"q1\": -1.2921, \"q2\": 0.6491}, {\"n\": \"porters\", \"q1\": 2.1338, \"q2\": -0.8969}, {\"n\": \"translator\", \"q1\": -1.9108, \"q2\": 1.066}, {\"n\": \"strike\", \"q1\": 3.0194, \"q2\": 4.9694}, {\"n\": \"translator\", \"q1\": 0.7305, \"q2\": 0.6314}, {\"n\": \"porters\", \"q1\": -1.0608, \"q2\": -0.3868}, {\"n\": \"hatch\", \"q1\": 0.0683, \"q2\": -0.6228}, {\"n\": \"chatter\", \"q1\": 0.6741, \"q2\": -0.3489}, {\"n\": \"representatives\", \"q1\": 0.2372, \"q2\": 1.1834}, {\"n\": \"eligibility\", \"q1\": 1.3552, \"q2\": 1.8766}, {\"n\": \"porters\", \"q1\": 1.2263, \"q2\": -0.3092}, {\"n\": \"strike\", \"q1\": -1.0542, \"q2\": -0.3681}, {\"n\": \"decision\", \"q1\": 0.3023, \"q2\": -2.6066}, {\"n\": \"neutron\", \"q1\": 0.6137, \"q2\": -0.6031}, {\"n\": \"giants\", \"q1\": 0.7996, \"q2\": 1.9892}, {\"n\": \"geography\", \"q1\": 2.8339, \"q2\": -2.9265}, {\"n\": \"giants\", \"q1\": -1.3887, \"q2\": 2.4774}, {\"n\": \"hatch\", \"q1\": 0.0508, \"q2\": 1.7361}, {\"n\": \"advertisement\", \"q1\": -0.1063, \"q2\": -0.3878}]}, \"$schema\": \"https://vega.github.io/schema/vega-lite/v2.0.json\"};\n",
       "var selector = \"#0303791d-4323-407c-8804-b0ca2519b52d\";\n",
       "var type = \"vega-lite\";\n",
       "\n",
       "var output_area = this;\n",
       "require(['nbextensions/jupyter-vega3/index'], function(vega) {\n",
       "  vega.render(selector, spec, type, output_area);\n",
       "}, function (err) {\n",
       "  if (err.requireType !== 'scripterror') {\n",
       "    throw(err);\n",
       "  }\n",
       "});\n"
      ]
     },
     "metadata": {
      "jupyter-vega3": "#0303791d-4323-407c-8804-b0ca2519b52d"
     },
     "output_type": "display_data"
    },
    {
     "data": {
      "image/png": "[encoded data removed]"
     },
     "metadata": {
      "jupyter-vega3": "#0303791d-4323-407c-8804-b0ca2519b52d"
     },
     "output_type": "display_data"
    }
   ],
   "source": [
    "cardinalities = [3, 10, 20]\n",
    "categories = [3, 30]\n",
    "entropy = [0.8, 3.9]\n",
    "tasks = ['value', 'summary']\n",
    "\n",
    "cardinality = cardinalities[2]  # 0,1,2\n",
    "num_cat = categories[0]  # 0,1\n",
    "entropy_q1 = entropy[0]  # 0,1\n",
    "entropy_q2 = entropy[0]  # 0,1\n",
    "task = tasks[1]  # 0,1\n",
    "\n",
    "\n",
    "fields = list(map(Field.from_obj, [\n",
    "    {\n",
    "      \"name\": \"n\",\n",
    "      \"type\": \"string\",\n",
    "      \"entropy\": 1,\n",
    "      \"cardinality\": cardinality,\n",
    "      \"interesting\": task == 'summary'\n",
    "    },\n",
    "    {\n",
    "      \"name\": \"q1\",\n",
    "      \"type\": \"number\",\n",
    "      \"entropy\": entropy_q1,\n",
    "      \"cardinality\": num_cat * cardinality,\n",
    "      \"interesting\": True\n",
    "    },\n",
    "    {\n",
    "      \"name\": \"q2\",\n",
    "      \"type\": \"number\",\n",
    "      \"entropy\": entropy_q2,\n",
    "      \"cardinality\": num_cat * cardinality\n",
    "    }\n",
    "]))\n",
    "spec_schema = Data(fields, num_cat * cardinality)\n",
    "spec_schema.fill_with_random_content()\n",
    "\n",
    "task = Task(spec_schema,\n",
    "            Query(\n",
    "                mark=None,\n",
    "                encodings=[\n",
    "                    Encoding(field='q1', ty='quantitative'),\n",
    "                    Encoding(field='q2', ty='quantitative'),\n",
    "                    Encoding(field='n', ty='nominal')\n",
    "                ]),\n",
    "            task=task\n",
    "           )\n",
    "\n",
    "out = run(task,\n",
    "    constants=const_dict,\n",
    "    files=['define.lp', 'generate.lp', 'test.lp', 'features.lp', 'weights.lp',\n",
    "           'assign_weights.lp', 'optimize.lp', 'output.lp', 'younghoon.lp']\n",
    "   )\n",
    "\n",
    "spec = out.to_vegalite()\n",
    "VegaLite(spec)"
   ]
  },
  {
   "cell_type": "code",
   "execution_count": null,
   "metadata": {},
   "outputs": [],
   "source": []
  }
 ],
 "metadata": {
  "kernelspec": {
   "display_name": "Python [conda env:asp]",
   "language": "python",
   "name": "conda-env-asp-py"
  },
  "language_info": {
   "codemirror_mode": {
    "name": "ipython",
    "version": 3
   },
   "file_extension": ".py",
   "mimetype": "text/x-python",
   "name": "python",
   "nbconvert_exporter": "python",
   "pygments_lexer": "ipython3",
   "version": "3.6.4"
  }
 },
 "nbformat": 4,
 "nbformat_minor": 2
}
