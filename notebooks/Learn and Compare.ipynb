{
 "cells": [
  {
   "cell_type": "code",
   "execution_count": 207,
   "metadata": {},
   "outputs": [],
   "source": [
    "from draco.learn import linear\n",
    "from draco.learn import data_util\n",
    "from draco.run import run\n",
    "from draco.spec import Task, Query\n",
    "from draco.learn.helper import count_violations\n",
    "import numpy as np\n",
    "import pandas as pd\n",
    "from sklearn.svm import SVC\n",
    "from sklearn.model_selection import train_test_split\n",
    "\n",
    "%matplotlib inline\n",
    "%config InlineBackend.figure_format = 'retina'"
   ]
  },
  {
   "cell_type": "code",
   "execution_count": 208,
   "metadata": {},
   "outputs": [],
   "source": [
    "test_size = 0.3"
   ]
  },
  {
   "cell_type": "code",
   "execution_count": 209,
   "metadata": {},
   "outputs": [],
   "source": [
    "data, _ = data_util.load_data(test_size=test_size)\n",
    "data = data[data.source == 'younghoon']\n",
    "\n",
    "raw_data = data_util.load_neg_pos_specs()"
   ]
  },
  {
   "cell_type": "code",
   "execution_count": 210,
   "metadata": {},
   "outputs": [],
   "source": [
    "X = data.positive - data.negative\n",
    "y = np.ones(len(X))"
   ]
  },
  {
   "cell_type": "code",
   "execution_count": 211,
   "metadata": {},
   "outputs": [
    {
     "name": "stdout",
     "output_type": "stream",
     "text": [
      "Train score:  0.9273049645390071\n",
      "Dev score:  0.9259259259259259\n"
     ]
    }
   ],
   "source": [
    "clf = linear.train_model(X, test_size=test_size)\n",
    "pred = clf.predict(X)"
   ]
  },
  {
   "cell_type": "code",
   "execution_count": 212,
   "metadata": {},
   "outputs": [],
   "source": [
    "weights = clf.coef_[0]\n",
    "names = X.columns"
   ]
  },
  {
   "cell_type": "code",
   "execution_count": 224,
   "metadata": {},
   "outputs": [],
   "source": [
    "const_dict = dict(zip(map(lambda x: f'{x}_weight', names), map(int, weights*1000)))\n",
    "weight_dict = dict(zip(names, weights))\n",
    "\n",
    "const_dict, weight_dict;"
   ]
  },
  {
   "cell_type": "code",
   "execution_count": 214,
   "metadata": {},
   "outputs": [
    {
     "data": {
      "text/plain": [
       "(748, 807)"
      ]
     },
     "execution_count": 214,
     "metadata": {},
     "output_type": "execute_result"
    }
   ],
   "source": [
    "only_correct = X[pred == 1]\n",
    "\n",
    "len(only_correct), len(data)"
   ]
  },
  {
   "cell_type": "code",
   "execution_count": 223,
   "metadata": {},
   "outputs": [
    {
     "name": "stdout",
     "output_type": "stream",
     "text": [
      "younghoon-664\n",
      "Prediction negative: -0.4690164336214597\n",
      "Prediction positive: 0.9844357445817346\n",
      "-0.4690164336214597 0.9844357445817346 False\n",
      "\n",
      "younghoon-955\n",
      "Prediction negative: -1.1593905358333618\n",
      "Prediction positive: 0.879401919499872\n",
      "-1.1593905358333618 0.879401919499872 False\n",
      "\n",
      "younghoon-1016\n",
      "Prediction negative: -1.1593905358333618\n",
      "Prediction positive: 1.1289212394085673\n",
      "-1.1593905358333618 1.128921239408567 False\n",
      "\n",
      "younghoon-843\n",
      "Prediction negative: -1.1593905358333618\n",
      "Prediction positive: 1.1289212394085673\n",
      "-1.1593905358333618 1.128921239408567 False\n",
      "\n",
      "younghoon-327\n",
      "Prediction negative: 0.25209967285299684\n",
      "Prediction positive: 0.7449093623739602\n",
      "0.25209967285299695 0.7449093623739601 False\n",
      "\n",
      "younghoon-1043\n",
      "Prediction negative: -0.4068890889129172\n",
      "Prediction positive: 0.9120360481370211\n",
      "-0.40688908891291714 0.9120360481370211 False\n",
      "\n",
      "younghoon-991\n",
      "Prediction negative: -0.6580620622887378\n",
      "Prediction positive: 0.9120360481370211\n",
      "-0.6580620622887378 0.9120360481370211 False\n",
      "\n",
      "younghoon-689\n",
      "Prediction negative: 0.1470658477711343\n",
      "Prediction positive: 0.6398755372920977\n",
      "0.14706584777113427 0.6398755372920976 False\n",
      "\n",
      "younghoon-1080\n",
      "Prediction negative: -1.3525260235840564\n",
      "Prediction positive: 0.3979621963305703\n",
      "-1.3525260235840564 0.39796219633057023 False\n",
      "\n",
      "younghoon-835\n",
      "Prediction negative: 0.31924652444336044\n",
      "Prediction positive: 0.7189005603863267\n",
      "0.31924652444336044 0.7189005603863267 False\n",
      "\n"
     ]
    }
   ],
   "source": [
    "def aggregate(violations):\n",
    "    ''' Get the cost from a dictionary of violations. '''\n",
    "    ret = 0.0\n",
    "    for n, v in violations.items():\n",
    "        ret += weight_dict[n] * v\n",
    "    return ret\n",
    "\n",
    "for i in range(len(only_correct))[:10]:\n",
    "    name = only_correct.iloc[i].name\n",
    "    \n",
    "    print(name)\n",
    "    \n",
    "    pair = raw_data[name]\n",
    "\n",
    "    task_n = Task(pair.data, Query.from_vegalite(pair.negative),task=pair.task)\n",
    "    task_p = Task(pair.data, Query.from_vegalite(pair.positive),task=pair.task)\n",
    "    \n",
    "    assert clf.predict([entry]) == 1\n",
    "    \n",
    "    data_entry = data.loc[name]\n",
    "    \n",
    "    # print(\"Prediction negative\", clf.coef_.dot(np.array([data_entry.negative]).T))\n",
    "    print(\"Prediction negative:\", clf.decision_function([data_entry.negative])[0])\n",
    "    # print(\"Prediction positive\", clf.coef_.dot(np.array([data_entry.positive]).T))\n",
    "    print(\"Prediction positive:\", clf.decision_function([data_entry.positive])[0])\n",
    "    \n",
    "#     cn = run(task_n, constants=const_dict).cost\n",
    "#     cp = run(task_p, constants=const_dict).cost\n",
    "#     print(cn, cp, cn > cp)\n",
    "\n",
    "    # the violation vectors have to be the same\n",
    "    assert count_violations(task_n) == data_entry.negative[data_entry.negative>0].to_dict()\n",
    "\n",
    "    cn = aggregate(count_violations(task_n))\n",
    "    cp = aggregate(count_violations(task_p))\n",
    "    \n",
    "    print(cn, cp, cn > cp)\n",
    "    \n",
    "    print()"
   ]
  },
  {
   "cell_type": "code",
   "execution_count": null,
   "metadata": {},
   "outputs": [],
   "source": []
  }
 ],
 "metadata": {
  "kernelspec": {
   "display_name": "Python [conda env:asp]",
   "language": "python",
   "name": "conda-env-asp-py"
  },
  "language_info": {
   "codemirror_mode": {
    "name": "ipython",
    "version": 3
   },
   "file_extension": ".py",
   "mimetype": "text/x-python",
   "name": "python",
   "nbconvert_exporter": "python",
   "pygments_lexer": "ipython3",
   "version": "3.6.4"
  }
 },
 "nbformat": 4,
 "nbformat_minor": 2
}
