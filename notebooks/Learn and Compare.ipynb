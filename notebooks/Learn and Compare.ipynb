{
 "cells": [
  {
   "cell_type": "code",
   "execution_count": 129,
   "metadata": {},
   "outputs": [],
   "source": [
    "from draco.learn import linear\n",
    "from draco.learn import data_util\n",
    "from draco.run import run\n",
    "from draco.spec import Task, Query\n",
    "import numpy as np\n",
    "import pandas as pd\n",
    "from sklearn.svm import SVC\n",
    "from sklearn.model_selection import train_test_split\n",
    "\n",
    "%matplotlib inline\n",
    "%config InlineBackend.figure_format = 'retina'"
   ]
  },
  {
   "cell_type": "code",
   "execution_count": 130,
   "metadata": {},
   "outputs": [],
   "source": [
    "test_size = 0.3"
   ]
  },
  {
   "cell_type": "code",
   "execution_count": 131,
   "metadata": {},
   "outputs": [],
   "source": [
    "data, _ = data_util.load_data(test_size=test_size)\n",
    "data = data[data.source == 'younghoon']\n",
    "\n",
    "raw_data = data_util.load_neg_pos_specs()"
   ]
  },
  {
   "cell_type": "code",
   "execution_count": 132,
   "metadata": {},
   "outputs": [],
   "source": [
    "X = data.positive - data.negative\n",
    "y = np.ones(len(X))"
   ]
  },
  {
   "cell_type": "code",
   "execution_count": 133,
   "metadata": {},
   "outputs": [
    {
     "name": "stdout",
     "output_type": "stream",
     "text": [
      "Train score:  0.9273049645390071\n",
      "Dev score:  0.9259259259259259\n"
     ]
    }
   ],
   "source": [
    "clf = linear.train_model(X, test_size=test_size)\n",
    "pred = clf.predict(X)"
   ]
  },
  {
   "cell_type": "code",
   "execution_count": 134,
   "metadata": {},
   "outputs": [],
   "source": [
    "weights = clf.coef_[0]\n",
    "names = X.columns"
   ]
  },
  {
   "cell_type": "code",
   "execution_count": 176,
   "metadata": {},
   "outputs": [],
   "source": [
    "const_dict = dict(zip(map(lambda x: f'{x}_weight', names), map(int, weights*1000)))\n",
    "weight_dict = dict(zip(names, weights))"
   ]
  },
  {
   "cell_type": "code",
   "execution_count": 177,
   "metadata": {},
   "outputs": [
    {
     "data": {
      "text/plain": [
       "(748, 807)"
      ]
     },
     "execution_count": 177,
     "metadata": {},
     "output_type": "execute_result"
    }
   ],
   "source": [
    "only_correct = X[pred == 1]\n",
    "\n",
    "len(only_correct), len(data)"
   ]
  },
  {
   "cell_type": "code",
   "execution_count": 180,
   "metadata": {},
   "outputs": [
    {
     "name": "stdout",
     "output_type": "stream",
     "text": [
      "[1.]\n",
      "younghoon-664\n",
      "-0.0014407701675249879 0.6769377813650127 False\n",
      "[1.]\n",
      "younghoon-955\n",
      "-0.472443278575694 0.571969391032046 False\n",
      "[1.]\n",
      "younghoon-1016\n",
      "-0.472443278575694 0.2398446423912579 False\n",
      "[1.]\n",
      "younghoon-843\n",
      "-0.472443278575694 0.2398446423912579 False\n",
      "[1.]\n",
      "younghoon-327\n",
      "0.4470663108482781 0.31645835234652875 True\n",
      "[1.]\n",
      "younghoon-1043\n",
      "-0.07262639522718228 1.0823050305300144 False\n",
      "[1.]\n",
      "younghoon-991\n",
      "-0.3468400781199943 1.0823050305300144 False\n",
      "[1.]\n",
      "younghoon-689\n",
      "0.34209792051531135 0.21148996201356202 True\n",
      "[1.]\n",
      "younghoon-1080\n",
      "-0.664739200634048 0.08914720336851262 False\n",
      "[1.]\n",
      "younghoon-835\n",
      "0.48896408671702435 0.8900091084716604 False\n"
     ]
    }
   ],
   "source": [
    "files = ['define.lp', 'test.lp', 'features.lp', 'count.lp', 'output.lp']\n",
    "\n",
    "def aggregate(violations):\n",
    "    ret = 0.0\n",
    "    for n, v in violations.items():\n",
    "        ret += weight_dict[n] * v\n",
    "    return ret\n",
    "\n",
    "for i in range(len(only_correct))[:10]:\n",
    "    entry = only_correct.iloc[i]\n",
    "    name = entry.name\n",
    "    pair = raw_data[name]\n",
    "\n",
    "    task_n = Task(pair.data, Query.from_vegalite(pair.negative))\n",
    "    task_p = Task(pair.data, Query.from_vegalite(pair.positive))\n",
    "    \n",
    "    print(clf.predict([entry]))\n",
    "    # print(clf.coef_.dot(np.array([entry]).T))\n",
    "\n",
    "    print(name)\n",
    "    \n",
    "#     cn = run(task_n, constants=const_dict).cost\n",
    "#     cp = run(task_p, constants=const_dict).cost\n",
    "#     print(cn, cp, cn > cp)\n",
    "    \n",
    "    cn = aggregate(run(task_n, files=files, silence_warnings=True).violations)\n",
    "    cp = aggregate(run(task_p, files=files, silence_warnings=True).violations)\n",
    "    \n",
    "    print(cn, cp, cn > cp)\n",
    "    \n",
    "    print"
   ]
  },
  {
   "cell_type": "code",
   "execution_count": null,
   "metadata": {},
   "outputs": [],
   "source": []
  }
 ],
 "metadata": {
  "kernelspec": {
   "display_name": "Python [conda env:asp]",
   "language": "python",
   "name": "conda-env-asp-py"
  },
  "language_info": {
   "codemirror_mode": {
    "name": "ipython",
    "version": 3
   },
   "file_extension": ".py",
   "mimetype": "text/x-python",
   "name": "python",
   "nbconvert_exporter": "python",
   "pygments_lexer": "ipython3",
   "version": "3.6.4"
  }
 },
 "nbformat": 4,
 "nbformat_minor": 2
}
