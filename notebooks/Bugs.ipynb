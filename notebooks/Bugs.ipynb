{
 "cells": [
  {
   "cell_type": "markdown",
   "metadata": {},
   "source": [
    "# Find Bugs\n",
    "\n",
    "Use this notebook to find wrong predicitons. We can then later visualize the pairs of specs."
   ]
  },
  {
   "cell_type": "code",
   "execution_count": 11,
   "metadata": {},
   "outputs": [],
   "source": [
    "from draco.learn import data_util\n",
    "from draco.learn import linear\n",
    "from sklearn import svm\n",
    "import random\n",
    "import json\n",
    "import numpy as np"
   ]
  },
  {
   "cell_type": "code",
   "execution_count": 2,
   "metadata": {},
   "outputs": [],
   "source": [
    "train_dev, _ = data_util.load_data()\n",
    "\n",
    "X = train_dev.positive - train_dev.negative\n",
    "X = X.as_matrix()"
   ]
  },
  {
   "cell_type": "markdown",
   "metadata": {},
   "source": [
    "## Cross validation\n",
    "\n",
    "Cross validate the model by running it over various subsets of the input data."
   ]
  },
  {
   "cell_type": "code",
   "execution_count": 3,
   "metadata": {},
   "outputs": [
    {
     "name": "stdout",
     "output_type": "stream",
     "text": [
      "Found bug 8\n",
      "Found bug 9\n",
      "Found bug 10\n",
      "Found bug 19\n",
      "Found bug 26\n",
      "Found bug 32\n",
      "Found bug 34\n",
      "Found bug 54\n",
      "Found bug 65\n",
      "Found bug 66\n",
      "Found bug 68\n",
      "Found bug 70\n",
      "Found bug 85\n",
      "Found bug 87\n",
      "Found bug 99\n",
      "Found bug 113\n",
      "Found bug 115\n",
      "Found bug 116\n",
      "Found bug 120\n",
      "Found bug 142\n",
      "Found bug 146\n",
      "Found bug 150\n",
      "Found bug 158\n",
      "Found bug 165\n",
      "Found bug 169\n",
      "Found bug 176\n",
      "Found bug 184\n",
      "Found bug 205\n",
      "Found bug 206\n",
      "Found bug 210\n",
      "Found bug 218\n",
      "Found bug 221\n",
      "Found bug 225\n",
      "Found bug 230\n",
      "Found bug 241\n",
      "Found bug 242\n",
      "Found bug 258\n",
      "Found bug 265\n",
      "Found bug 266\n",
      "Found bug 267\n",
      "Found bug 281\n",
      "Found bug 283\n",
      "Found bug 288\n",
      "Found bug 290\n",
      "Found bug 296\n",
      "Found bug 297\n",
      "Found bug 299\n",
      "Found bug 302\n",
      "Found bug 304\n",
      "Found bug 310\n",
      "Found bug 330\n",
      "Found bug 331\n",
      "Found bug 333\n",
      "Found bug 344\n",
      "Found bug 345\n",
      "Found bug 348\n",
      "Found bug 349\n",
      "Found bug 350\n",
      "Found bug 357\n",
      "Found bug 359\n",
      "Found bug 360\n",
      "Found bug 367\n",
      "Found bug 369\n",
      "Found bug 377\n",
      "Found bug 383\n",
      "Found bug 392\n",
      "Found bug 400\n",
      "Found bug 404\n",
      "Found bug 406\n",
      "Found bug 422\n",
      "Found bug 423\n",
      "Found bug 424\n",
      "Found bug 462\n",
      "Found bug 464\n",
      "Found bug 475\n",
      "Found bug 481\n",
      "Found bug 485\n",
      "Found bug 486\n",
      "Found bug 498\n",
      "Found bug 499\n",
      "Found bug 507\n",
      "Found bug 514\n",
      "Found bug 516\n",
      "Found bug 519\n",
      "Found bug 531\n",
      "Found bug 542\n",
      "Found bug 559\n",
      "Found bug 562\n",
      "Found bug 586\n",
      "Found bug 587\n",
      "Found bug 588\n",
      "Found bug 591\n",
      "Found bug 602\n",
      "Found bug 610\n",
      "Found bug 611\n",
      "Found bug 612\n",
      "Found bug 614\n",
      "Found bug 619\n",
      "Found bug 621\n",
      "Found bug 626\n",
      "Found bug 627\n",
      "Found bug 630\n",
      "Found bug 634\n",
      "Found bug 637\n",
      "Found bug 646\n",
      "Found bug 649\n",
      "Found bug 659\n",
      "Found bug 667\n",
      "Found bug 670\n",
      "Found bug 672\n",
      "Found bug 673\n",
      "Found bug 679\n",
      "Found bug 689\n",
      "Found bug 694\n",
      "Found bug 700\n",
      "Found bug 704\n",
      "Found bug 706\n",
      "Found bug 710\n",
      "Found bug 722\n",
      "Found bug 728\n",
      "Found bug 731\n",
      "Found bug 733\n",
      "Found bug 740\n",
      "Found bug 742\n",
      "Found bug 744\n",
      "Found bug 745\n",
      "Found bug 754\n",
      "Found bug 757\n",
      "Found bug 759\n",
      "Found bug 763\n",
      "Found bug 765\n",
      "Found bug 766\n",
      "Found bug 776\n",
      "Found bug 791\n",
      "Found bug 801\n",
      "Found bug 806\n",
      "Found bug 815\n",
      "Found bug 817\n",
      "Found bug 818\n"
     ]
    }
   ],
   "source": [
    "from sklearn.model_selection import LeaveOneOut\n",
    "\n",
    "loo = LeaveOneOut()\n",
    "\n",
    "bug_idx = []\n",
    "bug_confidence = []\n",
    "\n",
    "for train_index, test_index in loo.split(X):\n",
    "    X_train, X_test = X[train_index], X[test_index]\n",
    "    \n",
    "    size = len(X_train)\n",
    "    \n",
    "    y_train = np.ones(size)\n",
    "    \n",
    "    idx = np.ones(size, dtype=bool)\n",
    "    idx[:int(size/2)] = False\n",
    "    np.random.shuffle(idx)\n",
    "    \n",
    "    X_train[idx] = -X_train[idx]\n",
    "    y_train[idx] = -y_train[idx]\n",
    "\n",
    "    clf = svm.LinearSVC(C=1, fit_intercept=False)\n",
    "    clf.fit(X_train, y_train)\n",
    "    \n",
    "    if clf.predict(X_test)[0] != 1:\n",
    "        bug_idx.append(test_index[0])\n",
    "        bug_confidence.append(clf.decision_function(X_test)[0])\n",
    "        print(\"Found bug\", test_index[0],)"
   ]
  },
  {
   "cell_type": "code",
   "execution_count": 4,
   "metadata": {},
   "outputs": [
    {
     "data": {
      "text/plain": [
       "139"
      ]
     },
     "execution_count": 4,
     "metadata": {},
     "output_type": "execute_result"
    }
   ],
   "source": [
    "len(bug_idx)"
   ]
  },
  {
   "cell_type": "markdown",
   "metadata": {},
   "source": [
    "## Process bugs"
   ]
  },
  {
   "cell_type": "code",
   "execution_count": 5,
   "metadata": {},
   "outputs": [
    {
     "data": {
      "text/plain": [
       "Int64Index([ 125, 1003,  474,  464,  764,  299,  426,  418,  805,  902,\n",
       "            ...\n",
       "             469,  461,  896,  933,  515,  513, 1110,  468,  357,  508],\n",
       "           dtype='int64', length=139)"
      ]
     },
     "execution_count": 5,
     "metadata": {},
     "output_type": "execute_result"
    }
   ],
   "source": [
    "# get the indexes in the original data\n",
    "bugs = train_dev.index[bug_idx]\n",
    "bugs"
   ]
  },
  {
   "cell_type": "code",
   "execution_count": 6,
   "metadata": {},
   "outputs": [],
   "source": [
    "pos_neg_data = data_util.load_neg_pos_data()"
   ]
  },
  {
   "cell_type": "code",
   "execution_count": 7,
   "metadata": {},
   "outputs": [],
   "source": [
    "# TODO: generate better data\n",
    "\n",
    "vals = [{\n",
    "    'q1': round(random.normalvariate(2, 2), 3),\n",
    "    'q2': round(random.normalvariate(2, 2), 3),\n",
    "    'n': random.randint(0,7)\n",
    "} for _ in range(10)]"
   ]
  },
  {
   "cell_type": "code",
   "execution_count": 8,
   "metadata": {},
   "outputs": [],
   "source": [
    "bug_specs = []\n",
    "\n",
    "for i, bi in enumerate(bugs):\n",
    "    example = pos_neg_data[bi]\n",
    "    \n",
    "    negative = example.negative\n",
    "    positive = example.positive\n",
    "    \n",
    "    negative['data'] = {\n",
    "        'values': vals\n",
    "    }\n",
    "    positive['data'] = {\n",
    "        'values': vals\n",
    "    }\n",
    "    bug_specs.append({\n",
    "        'first': negative,\n",
    "        'second': positive,\n",
    "        'properties': {\n",
    "            'confidence': bug_confidence[i],\n",
    "            'source': example.source,\n",
    "            'task': example.task\n",
    "        }\n",
    "    })"
   ]
  },
  {
   "cell_type": "code",
   "execution_count": 9,
   "metadata": {},
   "outputs": [
    {
     "data": {
      "text/plain": [
       "139"
      ]
     },
     "execution_count": 9,
     "metadata": {},
     "output_type": "execute_result"
    }
   ],
   "source": [
    "len(bug_specs)"
   ]
  },
  {
   "cell_type": "code",
   "execution_count": 10,
   "metadata": {},
   "outputs": [],
   "source": [
    "with open('../data/spec_pairs/bugs.json', 'w') as f:\n",
    "    json.dump({\n",
    "        \"headers\": {\n",
    "            \"first\": {\n",
    "                \"title\": \"Negative\",\n",
    "                \"subtitle\": \"but was predicted as better\"\n",
    "            },\n",
    "            \"second\": {\n",
    "                \"title\": \"Positive\",\n",
    "                \"subtitle\": \"but was predicted as worse\"\n",
    "            }\n",
    "        },\n",
    "        \"specs\": bug_specs\n",
    "    }, f, indent=2)"
   ]
  },
  {
   "cell_type": "code",
   "execution_count": null,
   "metadata": {},
   "outputs": [],
   "source": []
  }
 ],
 "metadata": {
  "kernelspec": {
   "display_name": "Python [default]",
   "language": "python",
   "name": "python3"
  },
  "language_info": {
   "codemirror_mode": {
    "name": "ipython",
    "version": 3
   },
   "file_extension": ".py",
   "mimetype": "text/x-python",
   "name": "python",
   "nbconvert_exporter": "python",
   "pygments_lexer": "ipython3",
   "version": "3.6.4"
  }
 },
 "nbformat": 4,
 "nbformat_minor": 2
}
