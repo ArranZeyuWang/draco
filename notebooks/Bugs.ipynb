{
 "cells": [
  {
   "cell_type": "markdown",
   "metadata": {},
   "source": [
    "# Find Bugs\n",
    "\n",
    "Use this notebook to find wrong predicitons. We can then later visualize the pairs of specs."
   ]
  },
  {
   "cell_type": "code",
   "execution_count": 10,
   "metadata": {},
   "outputs": [],
   "source": [
    "from draco.learn import data_util\n",
    "from draco.learn import linear\n",
    "from sklearn import svm\n",
    "import random\n",
    "import json\n",
    "import numpy as np"
   ]
  },
  {
   "cell_type": "code",
   "execution_count": 2,
   "metadata": {},
   "outputs": [],
   "source": [
    "train_dev, _ = data_util.load_data()\n",
    "\n",
    "X = train_dev.negative - train_dev.positive\n",
    "X = X.as_matrix()"
   ]
  },
  {
   "cell_type": "markdown",
   "metadata": {},
   "source": [
    "## Cross validation\n",
    "\n",
    "Cross validate the model by running it over various subsets of the input data."
   ]
  },
  {
   "cell_type": "code",
   "execution_count": 3,
   "metadata": {},
   "outputs": [
    {
     "name": "stdout",
     "output_type": "stream",
     "text": [
      "Found bug 9\n",
      "Found bug 47\n",
      "Found bug 55\n",
      "Found bug 62\n",
      "Found bug 63\n",
      "Found bug 65\n",
      "Found bug 103\n",
      "Found bug 115\n",
      "Found bug 137\n",
      "Found bug 146\n",
      "Found bug 148\n",
      "Found bug 151\n",
      "Found bug 181\n",
      "Found bug 247\n",
      "Found bug 272\n",
      "Found bug 295\n",
      "Found bug 298\n",
      "Found bug 353\n",
      "Found bug 391\n",
      "Found bug 394\n",
      "Found bug 395\n",
      "Found bug 424\n",
      "Found bug 493\n",
      "Found bug 538\n",
      "Found bug 540\n",
      "Found bug 549\n",
      "Found bug 564\n",
      "Found bug 581\n",
      "Found bug 591\n",
      "Found bug 605\n"
     ]
    }
   ],
   "source": [
    "from sklearn.model_selection import LeaveOneOut\n",
    "\n",
    "loo = LeaveOneOut()\n",
    "\n",
    "bug_idx = []\n",
    "bug_confidence = []\n",
    "\n",
    "for train_index, test_index in loo.split(X):\n",
    "    X_train, X_test = X[train_index], X[test_index]\n",
    "    \n",
    "    size = len(X_train)\n",
    "    \n",
    "    y_train = np.ones(size)\n",
    "    \n",
    "    idx = np.ones(size, dtype=bool)\n",
    "    idx[:int(size/2)] = False\n",
    "    np.random.shuffle(idx)\n",
    "    \n",
    "    X_train[idx] = -X_train[idx]\n",
    "    y_train[idx] = -y_train[idx]\n",
    "\n",
    "    clf = svm.LinearSVC(C=1, fit_intercept=False)\n",
    "    clf.fit(X_train, y_train)\n",
    "    \n",
    "    if clf.predict(X_test)[0] != 1:\n",
    "        bug_idx.append(test_index[0])\n",
    "        bug_confidence.append(clf.decision_function(X_test)[0])\n",
    "        print(\"Found bug\", test_index[0],)"
   ]
  },
  {
   "cell_type": "code",
   "execution_count": 4,
   "metadata": {},
   "outputs": [
    {
     "data": {
      "text/plain": [
       "30"
      ]
     },
     "execution_count": 4,
     "metadata": {},
     "output_type": "execute_result"
    }
   ],
   "source": [
    "len(bug_idx)"
   ]
  },
  {
   "cell_type": "markdown",
   "metadata": {},
   "source": [
    "## Process bugs"
   ]
  },
  {
   "cell_type": "code",
   "execution_count": 5,
   "metadata": {},
   "outputs": [
    {
     "data": {
      "text/plain": [
       "Index(['younghoon-14', 'younghoon-660', 'younghoon-460', 'younghoon-414',\n",
       "       'younghoon-566', 'younghoon-415', 'younghoon-367', 'younghoon-351',\n",
       "       'bahador-4', 'younghoon-672', 'younghoon-30', 'younghoon-58',\n",
       "       'younghoon-423', 'younghoon-709', 'younghoon-28', 'younghoon-750',\n",
       "       'younghoon-353', 'younghoon-303', 'younghoon-24', 'younghoon-624',\n",
       "       'younghoon-556', 'younghoon-59', 'manual-0', 'younghoon-671',\n",
       "       'younghoon-623', 'younghoon-107', 'younghoon-826', 'younghoon-676',\n",
       "       'bahador-7', 'younghoon-509'],\n",
       "      dtype='object')"
      ]
     },
     "execution_count": 5,
     "metadata": {},
     "output_type": "execute_result"
    }
   ],
   "source": [
    "# get the indexes in the original data\n",
    "bugs = train_dev.index[bug_idx]\n",
    "bugs"
   ]
  },
  {
   "cell_type": "code",
   "execution_count": 6,
   "metadata": {},
   "outputs": [],
   "source": [
    "pos_neg_data = data_util.load_neg_pos_specs()"
   ]
  },
  {
   "cell_type": "code",
   "execution_count": 7,
   "metadata": {},
   "outputs": [],
   "source": [
    "bug_specs = []\n",
    "\n",
    "for i, bi in enumerate(bugs):\n",
    "    example = pos_neg_data[bi]\n",
    "    \n",
    "    negative = example.negative\n",
    "    positive = example.positive\n",
    "    \n",
    "    data = example.data\n",
    "    data.fill_with_random_content()\n",
    "    vals = data.content\n",
    "    \n",
    "    negative['data'] = {\n",
    "        'values': vals\n",
    "    }\n",
    "    positive['data'] = {\n",
    "        'values': vals\n",
    "    }\n",
    "    bug_specs.append({\n",
    "        'first': negative,\n",
    "        'second': positive,\n",
    "        'properties': {\n",
    "            'confidence': bug_confidence[i],\n",
    "            'source': example.source,\n",
    "            'task': example.task\n",
    "        }\n",
    "    })"
   ]
  },
  {
   "cell_type": "code",
   "execution_count": 8,
   "metadata": {},
   "outputs": [
    {
     "data": {
      "text/plain": [
       "30"
      ]
     },
     "execution_count": 8,
     "metadata": {},
     "output_type": "execute_result"
    }
   ],
   "source": [
    "len(bug_specs)"
   ]
  },
  {
   "cell_type": "code",
   "execution_count": 9,
   "metadata": {},
   "outputs": [],
   "source": [
    "with open('../data/spec_pairs/bugs.json', 'w') as f:\n",
    "    json.dump({\n",
    "        \"headers\": {\n",
    "            \"first\": {\n",
    "                \"title\": \"Negative\",\n",
    "                \"subtitle\": \"but was predicted as better\"\n",
    "            },\n",
    "            \"second\": {\n",
    "                \"title\": \"Positive\",\n",
    "                \"subtitle\": \"but was predicted as worse\"\n",
    "            }\n",
    "        },\n",
    "        \"specs\": bug_specs\n",
    "    }, f, indent=2)"
   ]
  },
  {
   "cell_type": "code",
   "execution_count": null,
   "metadata": {},
   "outputs": [],
   "source": []
  }
 ],
 "metadata": {
  "kernelspec": {
   "display_name": "Python [default]",
   "language": "python",
   "name": "python3"
  },
  "language_info": {
   "codemirror_mode": {
    "name": "ipython",
    "version": 3
   },
   "file_extension": ".py",
   "mimetype": "text/x-python",
   "name": "python",
   "nbconvert_exporter": "python",
   "pygments_lexer": "ipython3",
   "version": "3.6.4"
  }
 },
 "nbformat": 4,
 "nbformat_minor": 2
}
