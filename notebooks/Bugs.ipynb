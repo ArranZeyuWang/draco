{
 "cells": [
  {
   "cell_type": "markdown",
   "metadata": {},
   "source": [
    "# Find Bugs\n",
    "\n",
    "Use this notebook to find wrong predicitons. We can then later visualize the pairs of specs."
   ]
  },
  {
   "cell_type": "code",
   "execution_count": 2,
   "metadata": {},
   "outputs": [],
   "source": [
    "from draco.learn import data_util\n",
    "from draco.learn import linear\n",
    "from sklearn import svm\n",
    "import random\n",
    "import json\n",
    "import numpy as np"
   ]
  },
  {
   "cell_type": "code",
   "execution_count": 3,
   "metadata": {},
   "outputs": [],
   "source": [
    "train_dev, _ = data_util.load_data()\n",
    "\n",
    "X = train_dev.positive - train_dev.negative\n",
    "X = X.as_matrix()"
   ]
  },
  {
   "cell_type": "markdown",
   "metadata": {},
   "source": [
    "## Cross validation\n",
    "\n",
    "Cross validate the model by running it over various subsets of the input data."
   ]
  },
  {
   "cell_type": "code",
   "execution_count": 4,
   "metadata": {},
   "outputs": [
    {
     "name": "stdout",
     "output_type": "stream",
     "text": [
      "Found bug 25\n",
      "Found bug 39\n",
      "Found bug 58\n",
      "Found bug 96\n",
      "Found bug 125\n",
      "Found bug 140\n",
      "Found bug 146\n",
      "Found bug 161\n",
      "Found bug 164\n",
      "Found bug 167\n",
      "Found bug 191\n",
      "Found bug 199\n",
      "Found bug 209\n",
      "Found bug 229\n",
      "Found bug 234\n",
      "Found bug 278\n",
      "Found bug 329\n",
      "Found bug 337\n",
      "Found bug 354\n",
      "Found bug 362\n",
      "Found bug 383\n",
      "Found bug 387\n",
      "Found bug 398\n",
      "Found bug 412\n",
      "Found bug 426\n",
      "Found bug 428\n",
      "Found bug 434\n",
      "Found bug 437\n",
      "Found bug 438\n",
      "Found bug 444\n",
      "Found bug 457\n",
      "Found bug 488\n",
      "Found bug 509\n",
      "Found bug 530\n",
      "Found bug 547\n",
      "Found bug 552\n",
      "Found bug 556\n",
      "Found bug 557\n",
      "Found bug 575\n",
      "Found bug 581\n",
      "Found bug 584\n",
      "Found bug 587\n",
      "Found bug 594\n",
      "Found bug 650\n",
      "Found bug 664\n",
      "Found bug 668\n",
      "Found bug 669\n",
      "Found bug 671\n",
      "Found bug 673\n",
      "Found bug 675\n",
      "Found bug 678\n",
      "Found bug 711\n",
      "Found bug 721\n",
      "Found bug 735\n",
      "Found bug 767\n",
      "Found bug 770\n",
      "Found bug 778\n",
      "Found bug 790\n",
      "Found bug 793\n",
      "Found bug 796\n",
      "Found bug 808\n",
      "Found bug 824\n"
     ]
    }
   ],
   "source": [
    "from sklearn.model_selection import LeaveOneOut\n",
    "\n",
    "loo = LeaveOneOut()\n",
    "\n",
    "bug_idx = []\n",
    "bug_confidence = []\n",
    "\n",
    "for train_index, test_index in loo.split(X):\n",
    "    X_train, X_test = X[train_index], X[test_index]\n",
    "    \n",
    "    size = len(X_train)\n",
    "    \n",
    "    y_train = np.ones(size)\n",
    "    \n",
    "    idx = np.ones(size, dtype=bool)\n",
    "    idx[:int(size/2)] = False\n",
    "    np.random.shuffle(idx)\n",
    "    \n",
    "    X_train[idx] = -X_train[idx]\n",
    "    y_train[idx] = -y_train[idx]\n",
    "\n",
    "    clf = svm.LinearSVC(C=1, fit_intercept=False)\n",
    "    clf.fit(X_train, y_train)\n",
    "    \n",
    "    if clf.predict(X_test)[0] != 1:\n",
    "        bug_idx.append(test_index[0])\n",
    "        bug_confidence.append(clf.decision_function(X_test)[0])\n",
    "        print(\"Found bug\", test_index[0],)"
   ]
  },
  {
   "cell_type": "code",
   "execution_count": 5,
   "metadata": {},
   "outputs": [
    {
     "data": {
      "text/plain": [
       "62"
      ]
     },
     "execution_count": 5,
     "metadata": {},
     "output_type": "execute_result"
    }
   ],
   "source": [
    "len(bug_idx)"
   ]
  },
  {
   "cell_type": "markdown",
   "metadata": {},
   "source": [
    "## Process bugs"
   ]
  },
  {
   "cell_type": "code",
   "execution_count": 6,
   "metadata": {},
   "outputs": [
    {
     "data": {
      "text/plain": [
       "Index(['younghoon-637', 'manual-1', 'younghoon-204', 'younghoon-561',\n",
       "       'younghoon-987', 'younghoon-103', 'younghoon-741', 'younghoon-563',\n",
       "       'younghoon-829', 'younghoon-180', 'younghoon-894', 'younghoon-2',\n",
       "       'manual-0', 'younghoon-160', 'younghoon-1087', 'younghoon-900',\n",
       "       'younghoon-86', 'younghoon-465', 'younghoon-77', 'younghoon-1001',\n",
       "       'younghoon-891', 'younghoon-560', 'younghoon-463', 'younghoon-79',\n",
       "       'younghoon-380', 'younghoon-940', 'younghoon-814', 'younghoon-492',\n",
       "       'younghoon-421', 'younghoon-520', 'younghoon-33', 'younghoon-625',\n",
       "       'younghoon-812', 'younghoon-510', 'younghoon-459', 'younghoon-826',\n",
       "       'younghoon-475', 'younghoon-813', 'younghoon-902', 'younghoon-810',\n",
       "       'younghoon-457', 'younghoon-119', 'younghoon-565', 'younghoon-1117',\n",
       "       'younghoon-97', 'younghoon-1045', 'younghoon-998', 'younghoon-896',\n",
       "       'younghoon-1007', 'younghoon-834', 'younghoon-464', 'younghoon-559',\n",
       "       'younghoon-480', 'younghoon-171', 'younghoon-558', 'younghoon-150',\n",
       "       'younghoon-831', 'younghoon-80', 'younghoon-42', 'younghoon-32',\n",
       "       'younghoon-833', 'younghoon-576'],\n",
       "      dtype='object')"
      ]
     },
     "execution_count": 6,
     "metadata": {},
     "output_type": "execute_result"
    }
   ],
   "source": [
    "# get the indexes in the original data\n",
    "bugs = train_dev.index[bug_idx]\n",
    "bugs"
   ]
  },
  {
   "cell_type": "code",
   "execution_count": 7,
   "metadata": {},
   "outputs": [],
   "source": [
    "pos_neg_data = data_util.load_neg_pos_specs()"
   ]
  },
  {
   "cell_type": "code",
   "execution_count": 13,
   "metadata": {},
   "outputs": [],
   "source": [
    "bug_specs = []\n",
    "\n",
    "for i, bi in enumerate(bugs):\n",
    "    example = pos_neg_data[bi]\n",
    "    \n",
    "    negative = example.negative\n",
    "    positive = example.positive\n",
    "    \n",
    "    data = example.data\n",
    "    data.fill_with_random_content()\n",
    "    vals = data.content\n",
    "    \n",
    "    negative['data'] = {\n",
    "        'values': vals\n",
    "    }\n",
    "    positive['data'] = {\n",
    "        'values': vals\n",
    "    }\n",
    "    bug_specs.append({\n",
    "        'first': negative,\n",
    "        'second': positive,\n",
    "        'properties': {\n",
    "            'confidence': bug_confidence[i],\n",
    "            'source': example.source,\n",
    "            'task': example.task\n",
    "        }\n",
    "    })"
   ]
  },
  {
   "cell_type": "code",
   "execution_count": 14,
   "metadata": {},
   "outputs": [
    {
     "data": {
      "text/plain": [
       "62"
      ]
     },
     "execution_count": 14,
     "metadata": {},
     "output_type": "execute_result"
    }
   ],
   "source": [
    "len(bug_specs)"
   ]
  },
  {
   "cell_type": "code",
   "execution_count": 15,
   "metadata": {},
   "outputs": [],
   "source": [
    "with open('../data/spec_pairs/bugs.json', 'w') as f:\n",
    "    json.dump({\n",
    "        \"headers\": {\n",
    "            \"first\": {\n",
    "                \"title\": \"Negative\",\n",
    "                \"subtitle\": \"but was predicted as better\"\n",
    "            },\n",
    "            \"second\": {\n",
    "                \"title\": \"Positive\",\n",
    "                \"subtitle\": \"but was predicted as worse\"\n",
    "            }\n",
    "        },\n",
    "        \"specs\": bug_specs\n",
    "    }, f, indent=2)"
   ]
  },
  {
   "cell_type": "code",
   "execution_count": null,
   "metadata": {},
   "outputs": [],
   "source": []
  }
 ],
 "metadata": {
  "kernelspec": {
   "display_name": "Python [default]",
   "language": "python",
   "name": "python3"
  },
  "language_info": {
   "codemirror_mode": {
    "name": "ipython",
    "version": 3
   },
   "file_extension": ".py",
   "mimetype": "text/x-python",
   "name": "python",
   "nbconvert_exporter": "python",
   "pygments_lexer": "ipython3",
   "version": "3.6.4"
  }
 },
 "nbformat": 4,
 "nbformat_minor": 2
}
