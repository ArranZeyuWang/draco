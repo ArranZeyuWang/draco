{
 "cells": [
  {
   "cell_type": "markdown",
   "metadata": {},
   "source": [
    "# Find Bugs\n",
    "\n",
    "Use this notebook to find wrong predicitons. We can then later visualize the pairs of specs."
   ]
  },
  {
   "cell_type": "code",
   "execution_count": 12,
   "metadata": {
    "collapsed": true
   },
   "outputs": [],
   "source": [
    "from draco.learn import data_util\n",
    "from draco.learn import linear\n",
    "from sklearn import svm\n",
    "import random\n",
    "import json\n",
    "import numpy as np"
   ]
  },
  {
   "cell_type": "code",
   "execution_count": 2,
   "metadata": {
    "collapsed": true
   },
   "outputs": [],
   "source": [
    "train_dev, _ = data_util.load_data()\n",
    "\n",
    "X = train_dev.positive - train_dev.negative\n",
    "X = X.as_matrix()"
   ]
  },
  {
   "cell_type": "markdown",
   "metadata": {},
   "source": [
    "## Cross validation\n",
    "\n",
    "Cross validate the model by running it over various subsets of the input data."
   ]
  },
  {
   "cell_type": "code",
   "execution_count": 3,
   "metadata": {},
   "outputs": [
    {
     "name": "stdout",
     "output_type": "stream",
     "text": [
      "Found bug 3\n",
      "Found bug 17\n",
      "Found bug 18\n",
      "Found bug 30\n",
      "Found bug 33\n",
      "Found bug 38\n",
      "Found bug 52\n",
      "Found bug 53\n",
      "Found bug 59\n",
      "Found bug 64\n",
      "Found bug 73\n",
      "Found bug 78\n",
      "Found bug 79\n",
      "Found bug 99\n",
      "Found bug 100\n",
      "Found bug 101\n",
      "Found bug 104\n",
      "Found bug 121\n",
      "Found bug 124\n",
      "Found bug 128\n",
      "Found bug 131\n",
      "Found bug 133\n",
      "Found bug 142\n",
      "Found bug 157\n",
      "Found bug 158\n",
      "Found bug 164\n",
      "Found bug 165\n",
      "Found bug 182\n",
      "Found bug 183\n",
      "Found bug 189\n",
      "Found bug 199\n",
      "Found bug 201\n",
      "Found bug 205\n",
      "Found bug 212\n",
      "Found bug 222\n",
      "Found bug 234\n",
      "Found bug 237\n",
      "Found bug 238\n",
      "Found bug 242\n",
      "Found bug 244\n",
      "Found bug 249\n",
      "Found bug 250\n",
      "Found bug 255\n",
      "Found bug 261\n",
      "Found bug 279\n",
      "Found bug 284\n",
      "Found bug 303\n",
      "Found bug 305\n",
      "Found bug 306\n",
      "Found bug 310\n",
      "Found bug 316\n",
      "Found bug 337\n",
      "Found bug 338\n",
      "Found bug 340\n",
      "Found bug 343\n",
      "Found bug 351\n",
      "Found bug 353\n",
      "Found bug 357\n",
      "Found bug 372\n",
      "Found bug 377\n",
      "Found bug 379\n",
      "Found bug 381\n",
      "Found bug 384\n",
      "Found bug 385\n",
      "Found bug 389\n",
      "Found bug 390\n",
      "Found bug 395\n",
      "Found bug 402\n",
      "Found bug 405\n",
      "Found bug 408\n",
      "Found bug 425\n",
      "Found bug 430\n",
      "Found bug 431\n",
      "Found bug 434\n",
      "Found bug 437\n",
      "Found bug 440\n",
      "Found bug 446\n",
      "Found bug 448\n",
      "Found bug 449\n",
      "Found bug 450\n",
      "Found bug 454\n",
      "Found bug 465\n",
      "Found bug 467\n",
      "Found bug 469\n",
      "Found bug 476\n",
      "Found bug 481\n",
      "Found bug 507\n",
      "Found bug 511\n",
      "Found bug 520\n",
      "Found bug 525\n",
      "Found bug 526\n",
      "Found bug 528\n",
      "Found bug 536\n",
      "Found bug 539\n",
      "Found bug 540\n",
      "Found bug 547\n",
      "Found bug 548\n",
      "Found bug 556\n",
      "Found bug 564\n",
      "Found bug 567\n",
      "Found bug 573\n",
      "Found bug 578\n",
      "Found bug 582\n",
      "Found bug 583\n",
      "Found bug 587\n",
      "Found bug 589\n",
      "Found bug 593\n",
      "Found bug 594\n",
      "Found bug 597\n",
      "Found bug 599\n",
      "Found bug 605\n",
      "Found bug 618\n",
      "Found bug 628\n",
      "Found bug 630\n",
      "Found bug 635\n",
      "Found bug 637\n",
      "Found bug 640\n",
      "Found bug 643\n",
      "Found bug 648\n",
      "Found bug 665\n",
      "Found bug 677\n",
      "Found bug 678\n",
      "Found bug 681\n",
      "Found bug 682\n",
      "Found bug 685\n",
      "Found bug 695\n",
      "Found bug 700\n",
      "Found bug 701\n",
      "Found bug 706\n",
      "Found bug 716\n",
      "Found bug 721\n",
      "Found bug 728\n",
      "Found bug 731\n",
      "Found bug 738\n",
      "Found bug 744\n",
      "Found bug 750\n",
      "Found bug 752\n",
      "Found bug 760\n",
      "Found bug 763\n",
      "Found bug 765\n",
      "Found bug 767\n",
      "Found bug 779\n",
      "Found bug 783\n",
      "Found bug 804\n",
      "Found bug 807\n",
      "Found bug 811\n",
      "Found bug 825\n",
      "Found bug 835\n",
      "Found bug 840\n",
      "Found bug 860\n",
      "Found bug 861\n",
      "Found bug 862\n",
      "Found bug 865\n",
      "Found bug 894\n",
      "Found bug 895\n",
      "Found bug 906\n",
      "Found bug 907\n",
      "Found bug 908\n",
      "Found bug 910\n",
      "Found bug 918\n",
      "Found bug 923\n",
      "Found bug 924\n",
      "Found bug 929\n",
      "Found bug 934\n",
      "Found bug 936\n",
      "Found bug 937\n",
      "Found bug 944\n",
      "Found bug 949\n",
      "Found bug 950\n",
      "Found bug 954\n",
      "Found bug 961\n",
      "Found bug 967\n",
      "Found bug 969\n",
      "Found bug 993\n",
      "Found bug 995\n",
      "Found bug 999\n",
      "Found bug 1009\n",
      "Found bug 1012\n",
      "Found bug 1022\n",
      "Found bug 1026\n",
      "Found bug 1033\n",
      "Found bug 1037\n",
      "Found bug 1044\n",
      "Found bug 1052\n",
      "Found bug 1054\n",
      "Found bug 1057\n",
      "Found bug 1060\n",
      "Found bug 1061\n",
      "Found bug 1063\n",
      "Found bug 1083\n",
      "Found bug 1099\n",
      "Found bug 1107\n",
      "Found bug 1115\n",
      "Found bug 1116\n",
      "Found bug 1117\n",
      "Found bug 1118\n",
      "Found bug 1120\n",
      "Found bug 1135\n",
      "Found bug 1136\n",
      "Found bug 1140\n",
      "Found bug 1145\n",
      "Found bug 1150\n",
      "Found bug 1163\n",
      "Found bug 1166\n",
      "Found bug 1167\n",
      "Found bug 1168\n",
      "Found bug 1173\n",
      "Found bug 1182\n",
      "Found bug 1184\n",
      "Found bug 1192\n",
      "Found bug 1194\n",
      "Found bug 1197\n",
      "Found bug 1225\n",
      "Found bug 1229\n",
      "Found bug 1233\n"
     ]
    }
   ],
   "source": [
    "from sklearn.model_selection import LeaveOneOut\n",
    "\n",
    "loo = LeaveOneOut()\n",
    "\n",
    "bug_idx = []\n",
    "bug_confidence = []\n",
    "\n",
    "for train_index, test_index in loo.split(X):\n",
    "    X_train, X_test = X[train_index], X[test_index]\n",
    "    \n",
    "    size = len(X_train)\n",
    "    \n",
    "    y_train = np.ones(size)\n",
    "    \n",
    "    idx = np.ones(size, dtype=bool)\n",
    "    idx[:int(size/2)] = False\n",
    "    np.random.shuffle(idx)\n",
    "    \n",
    "    X_train[idx] = -X_train[idx]\n",
    "    y_train[idx] = -y_train[idx]\n",
    "\n",
    "    clf = svm.LinearSVC(C=1, fit_intercept=False)\n",
    "    clf.fit(X_train, y_train)\n",
    "    \n",
    "    if clf.predict(X_test)[0] != 1:\n",
    "        bug_idx.append(test_index[0])\n",
    "        bug_confidence.append(clf.decision_function(X_test)[0])\n",
    "        print(\"Found bug\", test_index[0],)"
   ]
  },
  {
   "cell_type": "code",
   "execution_count": 4,
   "metadata": {},
   "outputs": [
    {
     "data": {
      "text/plain": [
       "215"
      ]
     },
     "execution_count": 4,
     "metadata": {},
     "output_type": "execute_result"
    }
   ],
   "source": [
    "len(bug_idx)"
   ]
  },
  {
   "cell_type": "markdown",
   "metadata": {},
   "source": [
    "## Process bugs"
   ]
  },
  {
   "cell_type": "code",
   "execution_count": 5,
   "metadata": {},
   "outputs": [
    {
     "data": {
      "text/plain": [
       "Int64Index([1048,  409,   12,  593,  163,  538,  725,  584,  786, 1176,\n",
       "            ...\n",
       "              15, 1360, 1585, 1411,  728,  209, 1337,  508,  144,  715],\n",
       "           dtype='int64', length=215)"
      ]
     },
     "execution_count": 5,
     "metadata": {},
     "output_type": "execute_result"
    }
   ],
   "source": [
    "# get the indexes in the original data\n",
    "bugs = train_dev.index[bug_idx]\n",
    "bugs"
   ]
  },
  {
   "cell_type": "code",
   "execution_count": 6,
   "metadata": {
    "collapsed": true
   },
   "outputs": [],
   "source": [
    "pos_neg_data = data_util.load_neg_pos_data()"
   ]
  },
  {
   "cell_type": "code",
   "execution_count": 7,
   "metadata": {
    "collapsed": true
   },
   "outputs": [],
   "source": [
    "# TODO: generate better data\n",
    "\n",
    "vals = [{\n",
    "    'q1': round(random.normalvariate(2, 2), 3),\n",
    "    'q2': round(random.normalvariate(2, 2), 3),\n",
    "    'n': random.randint(0,7)\n",
    "} for _ in range(10)]"
   ]
  },
  {
   "cell_type": "code",
   "execution_count": 13,
   "metadata": {
    "collapsed": true
   },
   "outputs": [],
   "source": [
    "bug_specs = []\n",
    "\n",
    "for i, bi in enumerate(bugs):\n",
    "    example = pos_neg_data[bi]\n",
    "    \n",
    "    negative = example.negative\n",
    "    positive = example.positive\n",
    "    \n",
    "    negative['data'] = {\n",
    "        'values': vals\n",
    "    }\n",
    "    positive['data'] = {\n",
    "        'values': vals\n",
    "    }\n",
    "    bug_specs.append({\n",
    "        'first': negative,\n",
    "        'second': positive,\n",
    "        'properties': {\n",
    "            'confidence': bug_confidence[i],\n",
    "            'source': example.source,\n",
    "            'task': example.task\n",
    "        }\n",
    "    })"
   ]
  },
  {
   "cell_type": "code",
   "execution_count": 14,
   "metadata": {},
   "outputs": [
    {
     "data": {
      "text/plain": [
       "215"
      ]
     },
     "execution_count": 14,
     "metadata": {},
     "output_type": "execute_result"
    }
   ],
   "source": [
    "len(bug_specs)"
   ]
  },
  {
   "cell_type": "code",
   "execution_count": 15,
   "metadata": {
    "collapsed": true
   },
   "outputs": [],
   "source": [
    "with open('../data/bugs/bugs.json', 'w') as f:\n",
    "    json.dump({\n",
    "        \"headers\": {\n",
    "            \"first\": {\n",
    "                \"title\": \"Negative\",\n",
    "                \"subtitle\": \"but was predicted as better\"\n",
    "            },\n",
    "            \"second\": {\n",
    "                \"title\": \"Positive\",\n",
    "                \"subtitle\": \"but was predicted as worse\"\n",
    "            }\n",
    "        },\n",
    "        \"specs\": bug_specs\n",
    "    }, f, indent=2)"
   ]
  },
  {
   "cell_type": "code",
   "execution_count": null,
   "metadata": {
    "collapsed": true
   },
   "outputs": [],
   "source": []
  }
 ],
 "metadata": {
  "kernelspec": {
   "display_name": "Python 3",
   "language": "python",
   "name": "python3"
  },
  "language_info": {
   "codemirror_mode": {
    "name": "ipython",
    "version": 3
   },
   "file_extension": ".py",
   "mimetype": "text/x-python",
   "name": "python",
   "nbconvert_exporter": "python",
   "pygments_lexer": "ipython3",
   "version": "3.6.3"
  }
 },
 "nbformat": 4,
 "nbformat_minor": 2
}
