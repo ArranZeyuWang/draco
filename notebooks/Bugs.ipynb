{
 "cells": [
  {
   "cell_type": "markdown",
   "metadata": {},
   "source": [
    "# Find Bugs\n",
    "\n",
    "Use this notebook to find wrong predicitons. We can then later visualize the pairs of specs."
   ]
  },
  {
   "cell_type": "code",
   "execution_count": 1,
   "metadata": {},
   "outputs": [
    {
     "name": "stderr",
     "output_type": "stream",
     "text": [
      "/usr/local/anaconda3/envs/asp/lib/python3.6/importlib/_bootstrap.py:219: RuntimeWarning: numpy.dtype size changed, may indicate binary incompatibility. Expected 96, got 88\n",
      "/usr/local/anaconda3/envs/asp/lib/python3.6/importlib/_bootstrap.py:219: ImportWarning: can't resolve package from __spec__ or __package__, falling back on __name__ and __path__\n",
      "/usr/local/anaconda3/envs/asp/lib/python3.6/importlib/_bootstrap.py:219: ImportWarning: can't resolve package from __spec__ or __package__, falling back on __name__ and __path__\n",
      "/usr/local/anaconda3/envs/asp/lib/python3.6/importlib/_bootstrap.py:219: RuntimeWarning: numpy.dtype size changed, may indicate binary incompatibility. Expected 96, got 88\n",
      "/usr/local/anaconda3/envs/asp/lib/python3.6/importlib/_bootstrap.py:219: ImportWarning: can't resolve package from __spec__ or __package__, falling back on __name__ and __path__\n",
      "/usr/local/anaconda3/envs/asp/lib/python3.6/importlib/_bootstrap.py:219: RuntimeWarning: numpy.dtype size changed, may indicate binary incompatibility. Expected 96, got 88\n",
      "/usr/local/anaconda3/envs/asp/lib/python3.6/importlib/_bootstrap.py:219: ImportWarning: can't resolve package from __spec__ or __package__, falling back on __name__ and __path__\n",
      "/usr/local/anaconda3/envs/asp/lib/python3.6/importlib/_bootstrap.py:219: ImportWarning: can't resolve package from __spec__ or __package__, falling back on __name__ and __path__\n",
      "/usr/local/anaconda3/envs/asp/lib/python3.6/importlib/_bootstrap.py:219: ImportWarning: can't resolve package from __spec__ or __package__, falling back on __name__ and __path__\n",
      "/usr/local/anaconda3/envs/asp/lib/python3.6/importlib/_bootstrap.py:219: ImportWarning: can't resolve package from __spec__ or __package__, falling back on __name__ and __path__\n",
      "/usr/local/anaconda3/envs/asp/lib/python3.6/importlib/_bootstrap.py:219: RuntimeWarning: numpy.dtype size changed, may indicate binary incompatibility. Expected 96, got 88\n",
      "/usr/local/anaconda3/envs/asp/lib/python3.6/importlib/_bootstrap.py:219: ImportWarning: can't resolve package from __spec__ or __package__, falling back on __name__ and __path__\n",
      "/usr/local/anaconda3/envs/asp/lib/python3.6/importlib/_bootstrap.py:219: RuntimeWarning: numpy.dtype size changed, may indicate binary incompatibility. Expected 96, got 88\n",
      "/usr/local/anaconda3/envs/asp/lib/python3.6/importlib/_bootstrap.py:219: ImportWarning: can't resolve package from __spec__ or __package__, falling back on __name__ and __path__\n",
      "/usr/local/anaconda3/envs/asp/lib/python3.6/importlib/_bootstrap.py:219: RuntimeWarning: numpy.dtype size changed, may indicate binary incompatibility. Expected 96, got 88\n",
      "/usr/local/anaconda3/envs/asp/lib/python3.6/importlib/_bootstrap.py:219: ImportWarning: can't resolve package from __spec__ or __package__, falling back on __name__ and __path__\n",
      "/usr/local/anaconda3/envs/asp/lib/python3.6/importlib/_bootstrap.py:219: ImportWarning: can't resolve package from __spec__ or __package__, falling back on __name__ and __path__\n",
      "/usr/local/anaconda3/envs/asp/lib/python3.6/importlib/_bootstrap.py:219: ImportWarning: can't resolve package from __spec__ or __package__, falling back on __name__ and __path__\n",
      "/usr/local/anaconda3/envs/asp/lib/python3.6/importlib/_bootstrap.py:219: RuntimeWarning: numpy.dtype size changed, may indicate binary incompatibility. Expected 96, got 88\n",
      "/usr/local/anaconda3/envs/asp/lib/python3.6/importlib/_bootstrap.py:219: RuntimeWarning: numpy.dtype size changed, may indicate binary incompatibility. Expected 96, got 88\n",
      "/usr/local/anaconda3/envs/asp/lib/python3.6/importlib/_bootstrap.py:219: ImportWarning: can't resolve package from __spec__ or __package__, falling back on __name__ and __path__\n",
      "/usr/local/anaconda3/envs/asp/lib/python3.6/importlib/_bootstrap.py:219: ImportWarning: can't resolve package from __spec__ or __package__, falling back on __name__ and __path__\n",
      "/usr/local/anaconda3/envs/asp/lib/python3.6/importlib/_bootstrap.py:219: ImportWarning: can't resolve package from __spec__ or __package__, falling back on __name__ and __path__\n",
      "/usr/local/anaconda3/envs/asp/lib/python3.6/importlib/_bootstrap.py:219: ImportWarning: can't resolve package from __spec__ or __package__, falling back on __name__ and __path__\n",
      "/usr/local/anaconda3/envs/asp/lib/python3.6/importlib/_bootstrap.py:219: RuntimeWarning: numpy.dtype size changed, may indicate binary incompatibility. Expected 96, got 88\n",
      "/usr/local/anaconda3/envs/asp/lib/python3.6/importlib/_bootstrap.py:219: ImportWarning: can't resolve package from __spec__ or __package__, falling back on __name__ and __path__\n",
      "/usr/local/anaconda3/envs/asp/lib/python3.6/importlib/_bootstrap.py:219: RuntimeWarning: numpy.dtype size changed, may indicate binary incompatibility. Expected 96, got 88\n",
      "/usr/local/anaconda3/envs/asp/lib/python3.6/importlib/_bootstrap.py:219: RuntimeWarning: numpy.dtype size changed, may indicate binary incompatibility. Expected 96, got 88\n",
      "/usr/local/anaconda3/envs/asp/lib/python3.6/importlib/_bootstrap.py:219: ImportWarning: can't resolve package from __spec__ or __package__, falling back on __name__ and __path__\n",
      "/usr/local/anaconda3/envs/asp/lib/python3.6/importlib/_bootstrap.py:219: ImportWarning: can't resolve package from __spec__ or __package__, falling back on __name__ and __path__\n",
      "/usr/local/anaconda3/envs/asp/lib/python3.6/importlib/_bootstrap.py:219: RuntimeWarning: numpy.dtype size changed, may indicate binary incompatibility. Expected 96, got 88\n",
      "/usr/local/anaconda3/envs/asp/lib/python3.6/importlib/_bootstrap.py:219: ImportWarning: can't resolve package from __spec__ or __package__, falling back on __name__ and __path__\n",
      "/usr/local/anaconda3/envs/asp/lib/python3.6/importlib/_bootstrap.py:219: ImportWarning: can't resolve package from __spec__ or __package__, falling back on __name__ and __path__\n",
      "/usr/local/anaconda3/envs/asp/lib/python3.6/importlib/_bootstrap.py:219: ImportWarning: can't resolve package from __spec__ or __package__, falling back on __name__ and __path__\n",
      "/usr/local/anaconda3/envs/asp/lib/python3.6/importlib/_bootstrap.py:219: ImportWarning: can't resolve package from __spec__ or __package__, falling back on __name__ and __path__\n",
      "/usr/local/anaconda3/envs/asp/lib/python3.6/importlib/_bootstrap.py:219: ImportWarning: can't resolve package from __spec__ or __package__, falling back on __name__ and __path__\n",
      "/usr/local/anaconda3/envs/asp/lib/python3.6/importlib/_bootstrap.py:219: ImportWarning: can't resolve package from __spec__ or __package__, falling back on __name__ and __path__\n",
      "/usr/local/anaconda3/envs/asp/lib/python3.6/importlib/_bootstrap.py:219: RuntimeWarning: numpy.dtype size changed, may indicate binary incompatibility. Expected 96, got 88\n",
      "/usr/local/anaconda3/envs/asp/lib/python3.6/importlib/_bootstrap.py:219: ImportWarning: can't resolve package from __spec__ or __package__, falling back on __name__ and __path__\n",
      "/usr/local/anaconda3/envs/asp/lib/python3.6/importlib/_bootstrap.py:219: ImportWarning: can't resolve package from __spec__ or __package__, falling back on __name__ and __path__\n",
      "/usr/local/anaconda3/envs/asp/lib/python3.6/importlib/_bootstrap.py:219: ImportWarning: can't resolve package from __spec__ or __package__, falling back on __name__ and __path__\n",
      "/usr/local/anaconda3/envs/asp/lib/python3.6/importlib/_bootstrap.py:219: ImportWarning: can't resolve package from __spec__ or __package__, falling back on __name__ and __path__\n",
      "/usr/local/anaconda3/envs/asp/lib/python3.6/importlib/_bootstrap.py:219: ImportWarning: can't resolve package from __spec__ or __package__, falling back on __name__ and __path__\n",
      "/usr/local/anaconda3/envs/asp/lib/python3.6/importlib/_bootstrap.py:219: RuntimeWarning: numpy.dtype size changed, may indicate binary incompatibility. Expected 96, got 88\n",
      "/usr/local/anaconda3/envs/asp/lib/python3.6/importlib/_bootstrap.py:219: ImportWarning: can't resolve package from __spec__ or __package__, falling back on __name__ and __path__\n"
     ]
    }
   ],
   "source": [
    "from draco.learn import data_util\n",
    "from draco.learn import linear\n",
    "from sklearn import svm\n",
    "import random\n",
    "import json\n",
    "import numpy as np"
   ]
  },
  {
   "cell_type": "code",
   "execution_count": 2,
   "metadata": {},
   "outputs": [],
   "source": [
    "train_dev, _ = data_util.load_data()\n",
    "\n",
    "X = train_dev.positive - train_dev.negative\n",
    "X = X.as_matrix()"
   ]
  },
  {
   "cell_type": "markdown",
   "metadata": {},
   "source": [
    "## Cross validation\n",
    "\n",
    "Cross validate the model by running it over various subsets of the input data."
   ]
  },
  {
   "cell_type": "code",
   "execution_count": 3,
   "metadata": {},
   "outputs": [
    {
     "name": "stdout",
     "output_type": "stream",
     "text": [
      "Found bug 9\n",
      "Found bug 11\n",
      "Found bug 19\n",
      "Found bug 54\n",
      "Found bug 66\n",
      "Found bug 68\n",
      "Found bug 70\n",
      "Found bug 95\n",
      "Found bug 97\n",
      "Found bug 111\n",
      "Found bug 113\n",
      "Found bug 116\n",
      "Found bug 142\n",
      "Found bug 144\n",
      "Found bug 158\n",
      "Found bug 187\n",
      "Found bug 206\n",
      "Found bug 218\n",
      "Found bug 221\n",
      "Found bug 228\n",
      "Found bug 243\n",
      "Found bug 258\n",
      "Found bug 265\n",
      "Found bug 283\n",
      "Found bug 288\n",
      "Found bug 290\n",
      "Found bug 296\n",
      "Found bug 302\n",
      "Found bug 308\n",
      "Found bug 310\n",
      "Found bug 331\n",
      "Found bug 333\n",
      "Found bug 348\n",
      "Found bug 365\n",
      "Found bug 369\n",
      "Found bug 375\n",
      "Found bug 377\n",
      "Found bug 404\n",
      "Found bug 422\n",
      "Found bug 424\n",
      "Found bug 490\n",
      "Found bug 498\n",
      "Found bug 499\n",
      "Found bug 507\n",
      "Found bug 510\n",
      "Found bug 531\n",
      "Found bug 542\n",
      "Found bug 559\n",
      "Found bug 562\n",
      "Found bug 586\n",
      "Found bug 591\n",
      "Found bug 603\n",
      "Found bug 610\n",
      "Found bug 611\n",
      "Found bug 612\n",
      "Found bug 626\n",
      "Found bug 630\n",
      "Found bug 637\n",
      "Found bug 646\n",
      "Found bug 659\n",
      "Found bug 673\n",
      "Found bug 676\n",
      "Found bug 689\n",
      "Found bug 706\n",
      "Found bug 710\n",
      "Found bug 744\n",
      "Found bug 745\n",
      "Found bug 754\n",
      "Found bug 759\n",
      "Found bug 763\n",
      "Found bug 764\n",
      "Found bug 765\n",
      "Found bug 766\n",
      "Found bug 797\n",
      "Found bug 810\n",
      "Found bug 815\n",
      "Found bug 818\n"
     ]
    }
   ],
   "source": [
    "from sklearn.model_selection import LeaveOneOut\n",
    "\n",
    "loo = LeaveOneOut()\n",
    "\n",
    "bug_idx = []\n",
    "bug_confidence = []\n",
    "\n",
    "for train_index, test_index in loo.split(X):\n",
    "    X_train, X_test = X[train_index], X[test_index]\n",
    "    \n",
    "    size = len(X_train)\n",
    "    \n",
    "    y_train = np.ones(size)\n",
    "    \n",
    "    idx = np.ones(size, dtype=bool)\n",
    "    idx[:int(size/2)] = False\n",
    "    np.random.shuffle(idx)\n",
    "    \n",
    "    X_train[idx] = -X_train[idx]\n",
    "    y_train[idx] = -y_train[idx]\n",
    "\n",
    "    clf = svm.LinearSVC(C=1, fit_intercept=False)\n",
    "    clf.fit(X_train, y_train)\n",
    "    \n",
    "    if clf.predict(X_test)[0] != 1:\n",
    "        bug_idx.append(test_index[0])\n",
    "        bug_confidence.append(clf.decision_function(X_test)[0])\n",
    "        print(\"Found bug\", test_index[0],)"
   ]
  },
  {
   "cell_type": "code",
   "execution_count": 4,
   "metadata": {},
   "outputs": [
    {
     "data": {
      "text/plain": [
       "77"
      ]
     },
     "execution_count": 4,
     "metadata": {},
     "output_type": "execute_result"
    }
   ],
   "source": [
    "len(bug_idx)"
   ]
  },
  {
   "cell_type": "markdown",
   "metadata": {},
   "source": [
    "## Process bugs"
   ]
  },
  {
   "cell_type": "code",
   "execution_count": 5,
   "metadata": {},
   "outputs": [
    {
     "data": {
      "text/plain": [
       "Int64Index([1003, 1089,  464,  418,  902,  512,  587,  560,  951,  835,  374,\n",
       "             121,  989,  836, 1009,  625,    0,  815,  898,  830,  639,   82,\n",
       "             466,  173,  814,  828,  116, 1101,  563,  467,  816,  421,  462,\n",
       "             162,    4,  427,  893,  522, 1119,  377,  425,   36,  105,  944,\n",
       "             565,  820,    1,  460,  423,  942,  380,  624,  182,  617,  300,\n",
       "             465,  206,  738,   79,  100,   44,   24,  477,  420,  911,  152,\n",
       "             889,  871,   77,  469,  564,  461,  896,  627,  562,  468,  508],\n",
       "           dtype='int64')"
      ]
     },
     "execution_count": 5,
     "metadata": {},
     "output_type": "execute_result"
    }
   ],
   "source": [
    "# get the indexes in the original data\n",
    "bugs = train_dev.index[bug_idx]\n",
    "bugs"
   ]
  },
  {
   "cell_type": "code",
   "execution_count": 6,
   "metadata": {},
   "outputs": [],
   "source": [
    "pos_neg_data = data_util.load_neg_pos_specs()"
   ]
  },
  {
   "cell_type": "code",
   "execution_count": 7,
   "metadata": {},
   "outputs": [],
   "source": [
    "# TODO: generate better data\n",
    "\n",
    "vals = [{\n",
    "    'q1': round(random.normalvariate(2, 2), 3),\n",
    "    'q2': round(random.normalvariate(2, 2), 3),\n",
    "    'n': random.randint(0,7)\n",
    "} for _ in range(10)]"
   ]
  },
  {
   "cell_type": "code",
   "execution_count": 8,
   "metadata": {},
   "outputs": [],
   "source": [
    "bug_specs = []\n",
    "\n",
    "for i, bi in enumerate(bugs):\n",
    "    example = pos_neg_data[bi]\n",
    "    \n",
    "    negative = example.negative\n",
    "    positive = example.positive\n",
    "    \n",
    "    negative['data'] = {\n",
    "        'values': vals\n",
    "    }\n",
    "    positive['data'] = {\n",
    "        'values': vals\n",
    "    }\n",
    "    bug_specs.append({\n",
    "        'first': negative,\n",
    "        'second': positive,\n",
    "        'properties': {\n",
    "            'confidence': bug_confidence[i],\n",
    "            'source': example.source,\n",
    "            'task': example.task\n",
    "        }\n",
    "    })"
   ]
  },
  {
   "cell_type": "code",
   "execution_count": 9,
   "metadata": {},
   "outputs": [
    {
     "data": {
      "text/plain": [
       "77"
      ]
     },
     "execution_count": 9,
     "metadata": {},
     "output_type": "execute_result"
    }
   ],
   "source": [
    "len(bug_specs)"
   ]
  },
  {
   "cell_type": "code",
   "execution_count": 10,
   "metadata": {},
   "outputs": [],
   "source": [
    "with open('../data/spec_pairs/bugs.json', 'w') as f:\n",
    "    json.dump({\n",
    "        \"headers\": {\n",
    "            \"first\": {\n",
    "                \"title\": \"Negative\",\n",
    "                \"subtitle\": \"but was predicted as better\"\n",
    "            },\n",
    "            \"second\": {\n",
    "                \"title\": \"Positive\",\n",
    "                \"subtitle\": \"but was predicted as worse\"\n",
    "            }\n",
    "        },\n",
    "        \"specs\": bug_specs\n",
    "    }, f, indent=2)"
   ]
  },
  {
   "cell_type": "code",
   "execution_count": null,
   "metadata": {},
   "outputs": [],
   "source": []
  }
 ],
 "metadata": {
  "kernelspec": {
   "display_name": "Python [default]",
   "language": "python",
   "name": "python3"
  },
  "language_info": {
   "codemirror_mode": {
    "name": "ipython",
    "version": 3
   },
   "file_extension": ".py",
   "mimetype": "text/x-python",
   "name": "python",
   "nbconvert_exporter": "python",
   "pygments_lexer": "ipython3",
   "version": "3.6.4"
  }
 },
 "nbformat": 4,
 "nbformat_minor": 2
}
